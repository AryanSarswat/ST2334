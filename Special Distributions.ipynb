{
 "cells": [
  {
   "cell_type": "code",
   "execution_count": 2,
   "id": "889c5842",
   "metadata": {
    "scrolled": true
   },
   "outputs": [
    {
     "name": "stderr",
     "output_type": "stream",
     "text": [
      "Warning message:\n",
      "\"package 'rSymPy' was built under R version 3.6.3\"Loading required package: rJython\n",
      "Warning message:\n",
      "\"package 'rJython' was built under R version 3.6.3\"Loading required package: rJava\n",
      "Warning message:\n",
      "\"package 'rJava' was built under R version 3.6.3\"Loading required package: rjson\n"
     ]
    }
   ],
   "source": [
    "library(rSymPy)"
   ]
  },
  {
   "cell_type": "markdown",
   "id": "f1d80231",
   "metadata": {},
   "source": [
    "# Integrals"
   ]
  },
  {
   "cell_type": "code",
   "execution_count": 63,
   "id": "0a2aa5d1",
   "metadata": {},
   "outputs": [
    {
     "name": "stderr",
     "output_type": "stream",
     "text": [
      "Warning message in sqrt(varX):\n",
      "\"NaNs produced\"Warning message in sqrt(varY):\n",
      "\"NaNs produced\""
     ]
    }
   ],
   "source": [
    "y <- Var('y')\n",
    "x <- Var('x')\n",
    "\n",
    "#enter values here\n",
    "fxy = (6/7)*((x*x) + x/2)\n",
    "\n",
    "x_upper = 1\n",
    "x_lower = 0\n",
    "y_upper = 2\n",
    "y_lower = 0\n",
    "\n",
    "xval = 0.5\n",
    "yval = 3\n",
    "\n",
    "a = 1\n",
    "b = 2"
   ]
  },
  {
   "cell_type": "code",
   "execution_count": null,
   "id": "a9a3cf3d",
   "metadata": {},
   "outputs": [],
   "source": [
    "calculateAll(fxy, y_upper, y_lower, x_upper, x_lower, xval, yval)"
   ]
  },
  {
   "cell_type": "code",
   "execution_count": null,
   "id": "insured-companion",
   "metadata": {},
   "outputs": [],
   "source": [
    "calculateAll<- function(fxy, y_upper, y_lower, x_upper, x_lower, xval, yval){\n",
    "    \n",
    "    #X marginal distribution\n",
    "    fx_str = paste(\"integrate(\",fxy,\", (y,\",y_lower,\",\",y_upper,\"))\")\n",
    "    fx = sympy(fx_str)\n",
    "    eX_str = paste(\"integrate(x*\",fx,\", (x,\",x_lower,\",\",x_upper,\"))\")\n",
    "    eX = sympy(eX_str)\n",
    "    eX2_str = paste(\"integrate((x**2)*\",fx,\", (x,\",x_lower,\",\",x_upper,\"))\")\n",
    "    eX2 = sympy(eX2_str)\n",
    "    varX_str = paste(eX2,\"-(\",eX,\")**2\")\n",
    "    varX = as.numeric(eX2) - as.numeric(eX)**2\n",
    "\n",
    "    #Y marginal distribution\n",
    "    fy_str = paste(\"integrate(\",fxy,\", (x,\",x_lower,\",\",x_upper,\"))\")\n",
    "    fy = sympy(fy_str)\n",
    "    eY_str = paste(\"integrate(y*\",fy,\", (y,\",y_lower,\",\",y_upper,\"))\")\n",
    "    eY = sympy(eY_str)\n",
    "    eY2_str = paste(\"integrate((y**2)*\",fy,\", (y,\",y_lower,\",\",y_upper,\"))\")\n",
    "    eY2 = sympy(eY2_str)\n",
    "    varY = as.numeric(eY2) - (as.numeric(eY))**2\n",
    "    \n",
    "    #XY distribution\n",
    "    eXY_str = paste(\"integrate(x*y*\",fxy,\", (y,\",y_lower,\",\",y_upper,\"),(x,\",x_lower,\",\",x_upper,\"))\")\n",
    "    eXY = sympy(eXY_str)\n",
    "    covXY = as.numeric(eXY) - as.numeric(eX)*as.numeric(eY)\n",
    "    \n",
    "    #X conditional distribution\n",
    "    fxgy0_str = paste(\"(\",fxy,\")/\",\"(\",fy,\")\")\n",
    "    fxgy0 = sympy(fxgy0_str)\n",
    "    fxgy_str = paste(\"(\",fxgy0,\").subs({y:\",yval,\"})\")\n",
    "    fxgy = sympy(fxgy_str)\n",
    "    eXgY_str = paste(\"integrate(x*(\",fxgy,\"), (x,\",x_lower,\",\",x_upper,\"))\")\n",
    "    eXgY = sympy(eXgY_str)\n",
    "    varXgY_str = paste(\"integrate((x**2) *(\",fxgy,\"), (x,\",x_lower,\",\",x_upper,\"))\")\n",
    "    varXgY = sympy(varXgY_str)\n",
    "\n",
    "    #Y conditional distribution\n",
    "    fygx0_str = paste(\"(\",fxy,\")/\",\"(\",fx,\")\")\n",
    "    fygx0 = sympy(fygx0_str)\n",
    "    fygx_str = paste(\"(\",fygx0,\").subs({x:\",xval,\"})\")\n",
    "    fygx = sympy(fygx_str)\n",
    "    eYgX_str = paste(\"integrate(y*(\",fygx,\"), (y,\",y_lower,\",\",y_upper,\"))\")\n",
    "    eYgX = sympy(eYgX_str)\n",
    "    varYgX_str = paste(\"integrate((y**2)*(\",fygx,\"), (y,\",y_lower,\",\",y_upper,\"))\")\n",
    "    varYgX = sympy(varYgX_str)\n",
    "    \n",
    "    # aX + bY\n",
    "    aXplusbY = a*x + b*y\n",
    "    eaXplusbY_str = paste(\"integrate(\",aXplusbY,\"*\",fxy,\",(\",\"x,\",x_lower,\",\",x_upper,\"),(y,\",y_lower,\",\",y_upper,\"))\",sep=\"\")\n",
    "    eaXplusbY = sympy(eaXplusbY_str)\n",
    "    varaXplusbY = (a**2)*varX + (b**2)*varY + 2*a*b*covXY\n",
    "    \n",
    "    #printing\n",
    "    \n",
    "    print(noquote(paste(\"are they independent? \", sympy(paste(fx,\"*\",fy, \"==\", fxy)))))\n",
    "    print(noquote(paste(\"covariance is: \", covXY)))\n",
    "    cat(\"\\n\")\n",
    "    \n",
    "    print(\"----- CHARACTERISTICS OF X -----\")\n",
    "    print(noquote(paste(\"fx is: \", fx)))\n",
    "    print(noquote(paste(\"eX is: \", eX)))\n",
    "    print(noquote(paste(\"eX2 is: \", eX2)))\n",
    "    print(noquote(paste(\"varX is: \", varX)))\n",
    "    \n",
    "    cat(\"\\n\")\n",
    "\n",
    "    noquote(paste(\"fy is: \", fy))\n",
    "    print(\"----- CHARACTERISTICS OF Y -----\")\n",
    "    print(noquote(paste(\"fy is: \", fy)))\n",
    "    print(noquote(paste(\"eY is: \", eY)))\n",
    "    print(noquote(paste(\"eY2 is: \", eY2)))\n",
    "    print(noquote(paste(\"varY is: \", varY)))\n",
    "    \n",
    "    cat(\"\\n\")\n",
    "\n",
    "    print(noquote(paste(\"----- X GIVEN Y, where y = \", yval, \"-----\")))\n",
    "    print(noquote(paste(\"fxgy0 is: \", fxgy0)))\n",
    "    print(noquote(paste(\"fxgy is: \", fxgy)))\n",
    "    print(noquote(paste(\"eXgY is: \", eXgY)))\n",
    "    print(noquote(paste(\"varXgY is: \", varXgY)))\n",
    "    \n",
    "    cat(\"\\n\")\n",
    "\n",
    "    print(noquote(paste(\"----- Y GIVEN X, where x = \", xval, \"-----\")))\n",
    "    print(noquote(paste(\"fygx0 is: \", fygx0)))\n",
    "    print(noquote(paste(\"fygx, x = \", xval, \" is: \", fygx)))\n",
    "    print(noquote(paste(\"eYgX is: \", eYgX)))\n",
    "    print(noquote(paste(\"varYgX is: \", varYgX)))\n",
    "    \n",
    "    cat(\"\\n\")\n",
    "    \n",
    "    print(\"----- aX + bY -----\")\n",
    "    print(noquote(paste(\"eaXplusbY is: \", eaXplusbY)))\n",
    "    print(noquote(paste(\"varaXplusbY is: \", varaXplusbY)))\n",
    "    \n",
    "    cat(\"\\n\")\n",
    "\n",
    "}\n"
   ]
  },
  {
   "cell_type": "code",
   "execution_count": 68,
   "id": "2ec4356c",
   "metadata": {},
   "outputs": [
    {
     "data": {
      "text/html": [
       "1.11111111111"
      ],
      "text/latex": [
       "1.11111111111"
      ],
      "text/markdown": [
       "1.11111111111"
      ],
      "text/plain": [
       "[1] 1.111111"
      ]
     },
     "metadata": {},
     "output_type": "display_data"
    }
   ],
   "source": [
    "#probability\n",
    "x_upper = 1\n",
    "x_lower = 0\n",
    "y_upper = 2\n",
    "y_lower = 1.5\n",
    "\n",
    "result = eXY\n",
    "resultY = eY2\n",
    "resultX = eX2\n",
    "\n",
    "as.numeric(sympy(paste(result,\"/\",resultX)))"
   ]
  },
  {
   "cell_type": "markdown",
   "id": "b6d9d5c8",
   "metadata": {},
   "source": [
    "# Chebyshev inequality"
   ]
  },
  {
   "cell_type": "code",
   "execution_count": null,
   "id": "333e3c94",
   "metadata": {},
   "outputs": [],
   "source": [
    "p = 8/9 \n",
    "k2 = 1/(1-p)\n",
    "k = sqrt(k2)\n",
    "upper = eX + k*sdX\n",
    "lower = eX - k*sdX\n",
    "\n",
    "k\n",
    "upper\n",
    "lower"
   ]
  },
  {
   "cell_type": "code",
   "execution_count": null,
   "id": "unavailable-republic",
   "metadata": {},
   "outputs": [],
   "source": [
    "p = 8/9 \n",
    "k2 = 1/(1-p)\n",
    "k = sqrt(k2)\n",
    "upper = eX + k*sdX\n",
    "lower = eX - k*sdX\n",
    "\n",
    "k\n",
    "upper\n",
    "lower"
   ]
  },
  {
   "cell_type": "markdown",
   "id": "exterior-default",
   "metadata": {},
   "source": [
    "# Bernoulli & binomial distribution"
   ]
  },
  {
   "cell_type": "markdown",
   "id": "coordinated-opinion",
   "metadata": {},
   "source": [
    "Binomial"
   ]
  },
  {
   "cell_type": "code",
   "execution_count": null,
   "id": "aggressive-peeing",
   "metadata": {},
   "outputs": [],
   "source": [
    "#individual outcome probability\n",
    "dbinom(x, size = n, prob = p)\n",
    "\n",
    "#cumulative pbinom (pvalue), less than or equal to <= / greater than >\n",
    "pbinom(x, size = n, prob = p, lower.tail = lowertail)\n",
    "\n",
    "#cumulative range, p of lower <= x <= upper\n",
    "pbinom(upper, size = n, prob = p, lower.tail = TRUE) - pbinom(lower, size = n, prob = p, lower.tail = TRUE)\n",
    "\n",
    "#x value given cumulative probability, less than or equal to <= / greater than >\n",
    "qbinom(0.25, size = n, prob = p, lower.tail = lowertail)"
   ]
  },
  {
   "cell_type": "code",
   "execution_count": 90,
   "id": "august-editing",
   "metadata": {},
   "outputs": [
    {
     "data": {
      "text/plain": [
       "[1] The Expectation is 5.000000"
      ]
     },
     "metadata": {},
     "output_type": "display_data"
    },
    {
     "data": {
      "text/plain": [
       "[1] The Variance is 4.750000"
      ]
     },
     "metadata": {},
     "output_type": "display_data"
    },
    {
     "data": {
      "text/plain": [
       "[1] The Standard Deviation is 2.179449"
      ]
     },
     "metadata": {},
     "output_type": "display_data"
    },
    {
     "data": {
      "text/html": [
       "0.0811817718577655"
      ],
      "text/latex": [
       "0.0811817718577655"
      ],
      "text/markdown": [
       "0.0811817718577655"
      ],
      "text/plain": [
       "[1] 0.08118177"
      ]
     },
     "metadata": {},
     "output_type": "display_data"
    }
   ],
   "source": [
    "n = 36\n",
    "p = 1-0.95\n",
    "lowertail = TRUE\n",
    "x = 2\n",
    "\n",
    "upper = 55\n",
    "lower = 45\n",
    "\n",
    "eX = n*p\n",
    "varX = n*p*(1-p)\n",
    "sdX = sqrt(varX)\n",
    "\n",
    "noquote(sprintf(\"The Expectation is %f\",eX))\n",
    "noquote(sprintf(\"The Variance is %f\",varX))\n",
    "noquote(sprintf(\"The Standard Deviation is %f\",sdX))\n",
    "\n",
    "dbinom(x, size = n, prob = p)"
   ]
  },
  {
   "cell_type": "markdown",
   "id": "sacred-duplicate",
   "metadata": {},
   "source": [
    "Normal approximation"
   ]
  },
  {
   "cell_type": "code",
   "execution_count": null,
   "id": "going-modification",
   "metadata": {},
   "outputs": [],
   "source": [
    "#p lower <= X <= upper - if single value, put same\n",
    "pnorm(upper, eX, sdX, lower.tail = TRUE) - pnorm(lower, eX, sdX, lower.tail = TRUE)\n",
    "\n",
    "#cumulative , less than or equal to <= / greater than >\n",
    "pnorm(x, eX, sdX, lower.tail = lowertail)\n",
    "\n",
    "#cumulative range\n",
    "pnorm(upper, eX, sdX, lower.tail = TRUE) - pnorm(lower, eX, sdX, lower.tail = TRUE)\n",
    "\n",
    "#z* value given p\n",
    "qnorm(0.05, eX, sdX, lower.tail = lowertail)"
   ]
  },
  {
   "cell_type": "code",
   "execution_count": 35,
   "id": "direct-startup",
   "metadata": {},
   "outputs": [
    {
     "data": {
      "text/html": [
       "5"
      ],
      "text/latex": [
       "5"
      ],
      "text/markdown": [
       "5"
      ],
      "text/plain": [
       "[1] 5"
      ]
     },
     "metadata": {},
     "output_type": "display_data"
    },
    {
     "data": {
      "text/html": [
       "4.75"
      ],
      "text/latex": [
       "4.75"
      ],
      "text/markdown": [
       "4.75"
      ],
      "text/plain": [
       "[1] 4.75"
      ]
     },
     "metadata": {},
     "output_type": "display_data"
    },
    {
     "data": {
      "text/html": [
       "0.0194737278710127"
      ],
      "text/latex": [
       "0.0194737278710127"
      ],
      "text/markdown": [
       "0.0194737278710127"
      ],
      "text/plain": [
       "[1] 0.01947373"
      ]
     },
     "metadata": {},
     "output_type": "display_data"
    }
   ],
   "source": [
    "x = 9.5\n",
    "lower = 35 - 0.5\n",
    "upper = 47 + 0.5\n",
    "\n",
    "lowertail = FALSE\n",
    "\n",
    "\n",
    "eX = n*p\n",
    "varX = n*p*(1-p)\n",
    "sdX = sqrt(varX)\n"
   ]
  },
  {
   "cell_type": "markdown",
   "id": "suspended-seeking",
   "metadata": {},
   "source": [
    "Poisson approximation"
   ]
  },
  {
   "cell_type": "code",
   "execution_count": null,
   "id": "athletic-editor",
   "metadata": {},
   "outputs": [],
   "source": [
    "#exact probability\n",
    "dpois(x, lam = lam, log = FALSE)\n",
    "\n",
    "#cumulative pbinom (pvalue), less than or equal to <= / greater than >\n",
    "ppois(x, lam = lam, lower.tail = lowertail, log.p = FALSE)\n",
    "\n",
    "#cumulative range\n",
    "ppois(upper, lam = lam, lower.tail = TRUE, log.p = FALSE) - ppois(lower, lam = lam, lower.tail = TRUE, log.p = FALSE)\n",
    "\n",
    "#inverse given p\n",
    "qpois(p, lam, lower.tail = TRUE, log.p = FALSE)"
   ]
  },
  {
   "cell_type": "code",
   "execution_count": null,
   "id": "phantom-politics",
   "metadata": {},
   "outputs": [],
   "source": [
    "lam = n*p\n",
    "\n",
    "x = 205\n",
    "upper = 210\n",
    "lower = 184\n"
   ]
  },
  {
   "cell_type": "markdown",
   "id": "wound-examination",
   "metadata": {},
   "source": [
    "# Negative Binomial & geometric distribution"
   ]
  },
  {
   "cell_type": "code",
   "execution_count": null,
   "id": "grand-success",
   "metadata": {},
   "outputs": [],
   "source": [
    "#individual outcome probability\n",
    "dnbinom(trials, size = num_success, prob = p)\n",
    "\n",
    "#cumulative pbinom (pvalue), less than or equal to <= / greater than >\n",
    "pnbinom(trials, size = num_success, prob = p, lower.tail = lowertail)\n"
   ]
  },
  {
   "cell_type": "code",
   "execution_count": 62,
   "id": "adult-paragraph",
   "metadata": {},
   "outputs": [
    {
     "data": {
      "text/plain": [
       "[1] The Expectation is 1.333333"
      ]
     },
     "metadata": {},
     "output_type": "display_data"
    },
    {
     "data": {
      "text/plain": [
       "[1] The Variance is 0.444444"
      ]
     },
     "metadata": {},
     "output_type": "display_data"
    },
    {
     "data": {
      "text/plain": [
       "[1] The Standard Deviation is 0.666667"
      ]
     },
     "metadata": {},
     "output_type": "display_data"
    }
   ],
   "source": [
    "num_success = 1 \n",
    "p = 0.75\n",
    "lowertail = TRUE\n",
    "trials = 3\n",
    "\n",
    "eX = num_success/p\n",
    "varX = ((1-p)*num_success)/(p^2)\n",
    "sdX = sqrt(varX)\n",
    "\n",
    "noquote(sprintf(\"The Expectation is %f\",eX))\n",
    "noquote(sprintf(\"The Variance is %f\",varX))\n",
    "noquote(sprintf(\"The Standard Deviation is %f\",sdX))"
   ]
  },
  {
   "cell_type": "markdown",
   "id": "together-tours",
   "metadata": {},
   "source": [
    "# Poisson distribution"
   ]
  },
  {
   "cell_type": "code",
   "execution_count": null,
   "id": "sixth-milton",
   "metadata": {},
   "outputs": [],
   "source": [
    "#exact probability\n",
    "dpois(x, lam = lam, log = FALSE)\n",
    "\n",
    "#cumulative pbinom (pvalue), less than or equal to <= / greater than >\n",
    "ppois(x, lam = lam, lower.tail = lowertail, log.p = FALSE)\n",
    "\n",
    "#cumulative range\n",
    "ppois(upper, lam = lam, lower.tail = TRUE, log.p = FALSE) - ppois(lower, lam = lam, lower.tail = TRUE, log.p = FALSE)\n",
    "\n",
    "#inverse given p\n",
    "qpois(p, lam, lower.tail = TRUE, log.p = FALSE)\n"
   ]
  },
  {
   "cell_type": "code",
   "execution_count": 65,
   "id": "suited-manor",
   "metadata": {},
   "outputs": [
    {
     "data": {
      "text/plain": [
       "[1] The Expectation is 5.000000"
      ]
     },
     "metadata": {},
     "output_type": "display_data"
    },
    {
     "data": {
      "text/plain": [
       "[1] The Variance is 5.000000"
      ]
     },
     "metadata": {},
     "output_type": "display_data"
    },
    {
     "data": {
      "text/plain": [
       "[1] The Standard Deviation is 2.236068"
      ]
     },
     "metadata": {},
     "output_type": "display_data"
    }
   ],
   "source": [
    "lam = 5\n",
    "lowertail = TRUE\n",
    "\n",
    "x = 10\n",
    "upper = 210\n",
    "lower = 184\n",
    "\n",
    "eX = lam\n",
    "varX = lam\n",
    "sdX = sqrt(varX)\n",
    "\n",
    "noquote(sprintf(\"The Expectation is %f\",eX))\n",
    "noquote(sprintf(\"The Variance is %f\",varX))\n",
    "noquote(sprintf(\"The Standard Deviation is %f\",sdX))\n"
   ]
  },
  {
   "cell_type": "markdown",
   "id": "macro-confusion",
   "metadata": {},
   "source": [
    "# Exponential distribution"
   ]
  },
  {
   "cell_type": "code",
   "execution_count": 22,
   "id": "egyptian-signature",
   "metadata": {
    "scrolled": false
   },
   "outputs": [
    {
     "data": {
      "text/html": [
       "1.79731585646889e-05"
      ],
      "text/latex": [
       "1.79731585646889e-05"
      ],
      "text/markdown": [
       "1.79731585646889e-05"
      ],
      "text/plain": [
       "[1] 1.797316e-05"
      ]
     },
     "metadata": {},
     "output_type": "display_data"
    },
    {
     "data": {
      "text/html": [
       "0.449328964117222"
      ],
      "text/latex": [
       "0.449328964117222"
      ],
      "text/markdown": [
       "0.449328964117222"
      ],
      "text/plain": [
       "[1] 0.449329"
      ]
     },
     "metadata": {},
     "output_type": "display_data"
    },
    {
     "data": {
      "text/html": [
       "0.000119983201247935"
      ],
      "text/latex": [
       "0.000119983201247935"
      ],
      "text/markdown": [
       "0.000119983201247935"
      ],
      "text/plain": [
       "[1] 0.0001199832"
      ]
     },
     "metadata": {},
     "output_type": "display_data"
    },
    {
     "data": {
      "text/html": [
       "40235.9478108525"
      ],
      "text/latex": [
       "40235.9478108525"
      ],
      "text/markdown": [
       "40235.9478108525"
      ],
      "text/plain": [
       "[1] 40235.95"
      ]
     },
     "metadata": {},
     "output_type": "display_data"
    }
   ],
   "source": [
    "#individual outcome probability\n",
    "dexp(x, rate = alpha, log = FALSE)\n",
    "\n",
    "#cumulative pexp (pvalue), greater than > (x) or less than and equal to <=\n",
    "pexp(x, rate = alpha, lower.tail = lowertail, log.p = FALSE)\n",
    "\n",
    "#cumulative range, p of lower <= x <= upper\n",
    "pexp(upper, rate = alpha, lower.tail = TRUE, log.p = FALSE) - pexp(lower, rate = alpha, lower.tail = TRUE, log.p = FALSE)\n",
    "\n",
    "#x value given cumulative probability, less than or equal to <= / greater than >\n",
    "qexp(0.2, rate = alpha, lower.tail = lowertail, log.p = FALSE)\n"
   ]
  },
  {
   "cell_type": "code",
   "execution_count": 63,
   "id": "functioning-albuquerque",
   "metadata": {},
   "outputs": [
    {
     "data": {
      "text/plain": [
       "[1] The Expectation is 2.000000"
      ]
     },
     "metadata": {},
     "output_type": "display_data"
    },
    {
     "data": {
      "text/plain": [
       "[1] The Variance is 4.000000"
      ]
     },
     "metadata": {},
     "output_type": "display_data"
    },
    {
     "data": {
      "text/html": [
       "0.393469340287367"
      ],
      "text/latex": [
       "0.393469340287367"
      ],
      "text/markdown": [
       "0.393469340287367"
      ],
      "text/plain": [
       "[1] 0.3934693"
      ]
     },
     "metadata": {},
     "output_type": "display_data"
    }
   ],
   "source": [
    "eX = 2 #1/alpha\n",
    "alpha = 1/eX\n",
    "varX = 1/(alpha^2)\n",
    "\n",
    "lowertail = TRUE\n",
    "x = 1\n",
    "\n",
    "upper = 5\n",
    "lower = 2\n",
    "\n",
    "noquote(sprintf(\"The Expectation is %f\",eX))\n",
    "noquote(sprintf(\"The Variance is %f\",varX))\n",
    "\n",
    "pexp(x, rate = alpha, lower.tail = lowertail, log.p = FALSE)"
   ]
  },
  {
   "cell_type": "markdown",
   "id": "cutting-blake",
   "metadata": {},
   "source": [
    "# Normal distribution"
   ]
  },
  {
   "cell_type": "markdown",
   "id": "bound-strength",
   "metadata": {},
   "source": [
    "Single varaible"
   ]
  },
  {
   "cell_type": "code",
   "execution_count": null,
   "id": "infectious-montreal",
   "metadata": {},
   "outputs": [],
   "source": [
    "#p lower <= X <= upper - if single value, put same\n",
    "pnorm(upper, mu, stdev, lower.tail = TRUE) - pnorm(lower, mu, stdev, lower.tail = TRUE)\n",
    "\n",
    "#cumulative , less than or equal to <= / greater than >\n",
    "pnorm(value, mu, stdev, lower.tail = lowertail)\n",
    "\n",
    "#z* value given p\n",
    "qnorm(probability, mu, stdev, lower.tail = lowertail)"
   ]
  },
  {
   "cell_type": "code",
   "execution_count": 39,
   "id": "united-dubai",
   "metadata": {},
   "outputs": [
    {
     "data": {
      "text/plain": [
       "[1] The Expectation is 7950.000000"
      ]
     },
     "metadata": {},
     "output_type": "display_data"
    },
    {
     "data": {
      "text/plain": [
       "[1] The Variance is 400.000000"
      ]
     },
     "metadata": {},
     "output_type": "display_data"
    },
    {
     "data": {
      "text/plain": [
       "[1] The Standard Deviation is 20.000000"
      ]
     },
     "metadata": {},
     "output_type": "display_data"
    },
    {
     "data": {
      "text/html": [
       "0.308537538725987"
      ],
      "text/latex": [
       "0.308537538725987"
      ],
      "text/markdown": [
       "0.308537538725987"
      ],
      "text/plain": [
       "[1] 0.3085375"
      ]
     },
     "metadata": {},
     "output_type": "display_data"
    }
   ],
   "source": [
    "mu = 7950\n",
    "var = (100**2)/25\n",
    "stdev = sqrt(var)\n",
    "\n",
    "value = 7960\n",
    "lowertail = FALSE\n",
    "upper = 205.5\n",
    "lower = 204.5\n",
    "probability = 0.25\n",
    "\n",
    "noquote(sprintf(\"The Expectation is %f\",mu))\n",
    "noquote(sprintf(\"The Variance is %f\",var))\n",
    "noquote(sprintf(\"The Standard Deviation is %f\",stdev))\n",
    "\n",
    "\n",
    "pnorm(value, mu, stdev, lower.tail = lowertail)"
   ]
  },
  {
   "cell_type": "markdown",
   "id": "damaged-brief",
   "metadata": {},
   "source": [
    "Confidence interval"
   ]
  },
  {
   "cell_type": "code",
   "execution_count": 33,
   "id": "satellite-stomach",
   "metadata": {},
   "outputs": [
    {
     "data": {
      "text/html": [
       "0.722189696432469"
      ],
      "text/latex": [
       "0.722189696432469"
      ],
      "text/markdown": [
       "0.722189696432469"
      ],
      "text/plain": [
       "[1] 0.7221897"
      ]
     },
     "metadata": {},
     "output_type": "display_data"
    }
   ],
   "source": [
    "stdev = 40 #sd(data) \n",
    "xbar = 788 #mean(data) \n",
    "n = 30 #length(data) NROW(data)\n",
    "mu =  800\n",
    "true_mu = 790\n",
    "\n",
    "#CI\n",
    "alpha = 0.05\n",
    "m = qnorm(1-alpha/2) * stdev / sqrt(n)\n",
    "left = xbar - m\n",
    "right = xbar + m\n",
    "\n",
    "#rejection zone\n",
    "left_crit = mu - m\n",
    "right_crit = mu + m\n",
    "\n",
    "\n",
    "#tests\n",
    "z_stat = (xbar-mu)/(stdev/sqrt(n))\n",
    "crit_val = right\n",
    "pvalue = pnorm(xbar,mean = mu, sd = stdev/sqrt(n), lower.tail = FALSE)\n",
    "power = pnorm(mu+m, true_mu, stdev/sqrt(n), lower.tail = FALSE) + pnorm(mu-m, true_mu, stdev/sqrt(n), lower.tail = TRUE)\n",
    "beta = 1 - power\n",
    "\n",
    "#size needed\n",
    "alpha = 0.05\n",
    "width = 0.4\n",
    "error = 0.0005 #width/2\n",
    "n = (qnorm(1-alpha/2) * stdev / error) ^ 2\n",
    "\n",
    "beta"
   ]
  },
  {
   "cell_type": "markdown",
   "id": "reserved-demographic",
   "metadata": {},
   "source": [
    "Two variables"
   ]
  },
  {
   "cell_type": "code",
   "execution_count": 1,
   "id": "linear-intersection",
   "metadata": {},
   "outputs": [
    {
     "data": {
      "text/html": [
       "6.30232250604068e-05"
      ],
      "text/latex": [
       "6.30232250604068e-05"
      ],
      "text/markdown": [
       "6.30232250604068e-05"
      ],
      "text/plain": [
       "[1] 6.302323e-05"
      ]
     },
     "metadata": {},
     "output_type": "display_data"
    },
    {
     "data": {
      "text/html": [
       "3.42161171256569"
      ],
      "text/latex": [
       "3.42161171256569"
      ],
      "text/markdown": [
       "3.42161171256569"
      ],
      "text/plain": [
       "[1] 3.421612"
      ]
     },
     "metadata": {},
     "output_type": "display_data"
    },
    {
     "data": {
      "text/html": [
       "10.5783882874343"
      ],
      "text/latex": [
       "10.5783882874343"
      ],
      "text/markdown": [
       "10.5783882874343"
      ],
      "text/plain": [
       "[1] 10.57839"
      ]
     },
     "metadata": {},
     "output_type": "display_data"
    }
   ],
   "source": [
    "xbar1 = 84\n",
    "sd1 = 4\n",
    "n1 = 12\n",
    "mu1 = 0\n",
    "\n",
    "xbar2 = 77 \n",
    "sd2 = 6\n",
    "n2 = 18\n",
    "mu2 = 0\n",
    "\n",
    "alpha = 0.05\n",
    "\n",
    "diff = mu1 - mu2\n",
    "diffbar = xbar1 - xbar2\n",
    "\n",
    "#CI\n",
    "var = (sd1^2)/n1 + (sd2^2)/n2\n",
    "m = qnorm(1-alpha/2) * sqrt(var) \n",
    "left = diffbar - m\n",
    "right = diffbar + m\n",
    "\n",
    "#test\n",
    "lowertail = FALSE\n",
    "pnorm(diffbar, diff, sqrt(var), lower.tail = lowertail)\n",
    "\n",
    "left\n",
    "right"
   ]
  },
  {
   "cell_type": "code",
   "execution_count": 17,
   "id": "emotional-alexandria",
   "metadata": {},
   "outputs": [
    {
     "ename": "ERROR",
     "evalue": "Error in z.test(x = c(5), y = NULL, alternative = \"two.sided\", mu = 4, : not enough x observations\n",
     "output_type": "error",
     "traceback": [
      "Error in z.test(x = c(5), y = NULL, alternative = \"two.sided\", mu = 4, : not enough x observations\nTraceback:\n",
      "1. z.test(x = c(5), y = NULL, alternative = \"two.sided\", mu = 4, \n .     sigma.x = 3, sigma.y = NULL, conf.level = 0.95)",
      "2. stop(\"not enough x observations\")"
     ]
    }
   ],
   "source": [
    "z.test(x = c(5), y = NULL, alternative = 'two.sided', mu = 4, sigma.x = 3.0, sigma.y = NULL, conf.level = 0.95)"
   ]
  },
  {
   "cell_type": "markdown",
   "id": "developmental-speed",
   "metadata": {},
   "source": [
    "# T distribution"
   ]
  },
  {
   "cell_type": "markdown",
   "id": "phantom-composite",
   "metadata": {},
   "source": [
    "Single variable"
   ]
  },
  {
   "cell_type": "code",
   "execution_count": null,
   "id": "severe-valley",
   "metadata": {},
   "outputs": [],
   "source": [
    "#p lower <= X <= upper - if single value, put same\n",
    "pt(upper, dof, lower.tail = TRUE) - pt(lower, dof, lower.tail = TRUE)\n",
    "\n",
    "#cumulative , less than or equal to <= / greater than >\n",
    "pt(t, dof, lower.tail = lowertail)\n",
    "\n",
    "#t* value given p\n",
    "qt(probability, dof, lower.tail = lowertail)"
   ]
  },
  {
   "cell_type": "code",
   "execution_count": 10,
   "id": "choice-words",
   "metadata": {},
   "outputs": [
    {
     "data": {
      "text/html": [
       "0.00954529338715352"
      ],
      "text/latex": [
       "0.00954529338715352"
      ],
      "text/markdown": [
       "0.00954529338715352"
      ],
      "text/plain": [
       "[1] 0.009545293"
      ]
     },
     "metadata": {},
     "output_type": "display_data"
    }
   ],
   "source": [
    "n = 9\n",
    "sd = 4.1\n",
    "s = 4.1 #sqrt(n/(n-1))*sd\n",
    "xbar = 24\n",
    "mu = 20\n",
    "lowertail = FALSE\n",
    "\n",
    "t = (xbar - mu)/(s/sqrt(n))\n",
    "dof = n-1\n",
    "\n",
    "pt(t, dof, lower.tail = lowertail)\n"
   ]
  },
  {
   "cell_type": "markdown",
   "id": "brutal-confidentiality",
   "metadata": {},
   "source": [
    "Single variable CI and test"
   ]
  },
  {
   "cell_type": "code",
   "execution_count": 70,
   "id": "forced-memory",
   "metadata": {},
   "outputs": [
    {
     "data": {
      "text/html": [
       "0.0161668358738926"
      ],
      "text/latex": [
       "0.0161668358738926"
      ],
      "text/markdown": [
       "0.0161668358738926"
      ],
      "text/plain": [
       "[1] 0.01616684"
      ]
     },
     "metadata": {},
     "output_type": "display_data"
    },
    {
     "data": {
      "text/html": [
       "0.267166497459441"
      ],
      "text/latex": [
       "0.267166497459441"
      ],
      "text/markdown": [
       "0.267166497459441"
      ],
      "text/plain": [
       "[1] 0.2671665"
      ]
     },
     "metadata": {},
     "output_type": "display_data"
    },
    {
     "data": {
      "text/html": [
       "0.141666666666667"
      ],
      "text/latex": [
       "0.141666666666667"
      ],
      "text/markdown": [
       "0.141666666666667"
      ],
      "text/plain": [
       "[1] 0.1416667"
      ]
     },
     "metadata": {},
     "output_type": "display_data"
    },
    {
     "data": {
      "text/html": [
       "0.197522534195852"
      ],
      "text/latex": [
       "0.197522534195852"
      ],
      "text/markdown": [
       "0.197522534195852"
      ],
      "text/plain": [
       "[1] 0.1975225"
      ]
     },
     "metadata": {},
     "output_type": "display_data"
    }
   ],
   "source": [
    "xbar = mean(data)\n",
    "s = sd(data)\n",
    "n = length(data)\n",
    "mu = 0\n",
    "\n",
    "#test\n",
    "alpha = 0.05\n",
    "t = qt(alpha/2, n-1, lower.tail = FALSE)\n",
    "t_stat = (xbar-mu)/(s/sqrt(n))\n",
    "pvalue = pt(t_stat, n-1, lower.tail = FALSE)\n",
    "\n",
    "#CI\n",
    "m = t*s/sqrt(n)\n",
    "right = xbar + m\n",
    "left = xbar - m\n",
    "\n",
    "left\n",
    "right\n",
    "xbar\n",
    "s"
   ]
  },
  {
   "cell_type": "markdown",
   "id": "marine-action",
   "metadata": {},
   "source": [
    "Two variables"
   ]
  },
  {
   "cell_type": "code",
   "execution_count": 51,
   "id": "known-consideration",
   "metadata": {},
   "outputs": [
    {
     "data": {
      "text/html": [
       "0.141666666666667"
      ],
      "text/latex": [
       "0.141666666666667"
      ],
      "text/markdown": [
       "0.141666666666667"
      ],
      "text/plain": [
       "[1] 0.1416667"
      ]
     },
     "metadata": {},
     "output_type": "display_data"
    },
    {
     "data": {
      "text/html": [
       "-3.63670781335856"
      ],
      "text/latex": [
       "-3.63670781335856"
      ],
      "text/markdown": [
       "-3.63670781335856"
      ],
      "text/plain": [
       "[1] -3.636708"
      ]
     },
     "metadata": {},
     "output_type": "display_data"
    },
    {
     "data": {
      "text/html": [
       "3.92004114669189"
      ],
      "text/latex": [
       "3.92004114669189"
      ],
      "text/markdown": [
       "3.92004114669189"
      ],
      "text/plain": [
       "[1] 3.920041"
      ]
     },
     "metadata": {},
     "output_type": "display_data"
    }
   ],
   "source": [
    "xbar1 = mean(data1)\n",
    "s1 = sd(data1)\n",
    "n1 = length(data1)\n",
    "\n",
    "xbar2 = mean(data2)\n",
    "s2 = sd(data2)\n",
    "n2 = length(data2)\n",
    "\n",
    "alpha = 0.05\n",
    "\n",
    "#test\n",
    "t_stat = (xbar1-xbar2)/sqrt((s1**2/n1)+(s2**2/n2))\n",
    "df = min((n1-1), (n2-1))\n",
    "t = qnorm(alpha/2, df, lower.tail = TRUE)\n",
    "\n",
    "#CI\n",
    "m = t*sqrt((s1**2/n1)+(s2**2/n2))\n",
    "diff = xbar1 - xbar2\n",
    "right = diff + m\n",
    "left = diff - m\n",
    "\n",
    "\n",
    "p = pt(t_stat,df, lower.tail = FALSE) #*2\n",
    "\n",
    "diff\n",
    "left\n",
    "right\n"
   ]
  },
  {
   "cell_type": "code",
   "execution_count": 45,
   "id": "dirty-disaster",
   "metadata": {},
   "outputs": [
    {
     "data": {
      "text/html": [
       "1.53688954709677"
      ],
      "text/latex": [
       "1.53688954709677"
      ],
      "text/markdown": [
       "1.53688954709677"
      ],
      "text/plain": [
       "[1] 1.53689"
      ]
     },
     "metadata": {},
     "output_type": "display_data"
    },
    {
     "data": {
      "text/html": [
       "12.4631104529032"
      ],
      "text/latex": [
       "12.4631104529032"
      ],
      "text/markdown": [
       "12.4631104529032"
      ],
      "text/plain": [
       "[1] 12.46311"
      ]
     },
     "metadata": {},
     "output_type": "display_data"
    }
   ],
   "source": [
    "xbar1 = 84#mean(data1)\n",
    "s1 = 4#sd(data1)\n",
    "n1 = 12#length(data1)\n",
    "\n",
    "xbar2 = 77#mean(data2)\n",
    "s2 = 6#sd(data2)\n",
    "n2 = 18#length(data2)\n",
    "\n",
    "alpha = 0.01\n",
    "\n",
    "dof1 = n1 -1\n",
    "dof2 = n2 -1\n",
    "dofT = dof1 + dof2\n",
    "sp = sqrt(((dof1)*(s1**2) + (dof2)*(s2**2))/(dofT))\n",
    "diff = xbar1 - xbar2\n",
    "\n",
    "#CI\n",
    "m = qt(alpha/2, dofT, lower.tail = FALSE) * sp * sqrt(1/n1 + 1/n2)\n",
    "left = diff - m\n",
    "right = diff + m\n",
    "\n",
    "left\n",
    "right"
   ]
  },
  {
   "cell_type": "markdown",
   "id": "prospective-berry",
   "metadata": {},
   "source": [
    "# Chi Square"
   ]
  },
  {
   "cell_type": "code",
   "execution_count": null,
   "id": "rapid-making",
   "metadata": {},
   "outputs": [],
   "source": [
    "#p lower <= X <= upper - if single value, put same\n",
    "pchisq(upperchisq, dof, lower.tail = TRUE) - pchisq(lowerchisq, dof, lower.tail = TRUE)\n",
    "\n",
    "#cumulative , less than or equal to <= / greater than >\n",
    "pchisq(chisq, dof, lower.tail = lowertail)\n",
    "\n",
    "#chisq* value given p\n",
    "qchisq(probability, dof)"
   ]
  },
  {
   "cell_type": "code",
   "execution_count": 16,
   "id": "continuing-learning",
   "metadata": {},
   "outputs": [
    {
     "data": {
      "text/html": [
       "0.940009658559976"
      ],
      "text/latex": [
       "0.940009658559976"
      ],
      "text/markdown": [
       "0.940009658559976"
      ],
      "text/plain": [
       "[1] 0.9400097"
      ]
     },
     "metadata": {},
     "output_type": "display_data"
    }
   ],
   "source": [
    "n = 25\n",
    "var = 6\n",
    "value = 9.1\n",
    "lowertail = FALSE\n",
    "\n",
    "upper = 10.745\n",
    "lower = 3.462\n",
    "\n",
    "dof = n-1\n",
    "chisq = dof*value/var\n",
    "upperchisq = dof*upper/var\n",
    "lowerchisq = dof*lower/var\n",
    "\n",
    "pchisq(upperchisq, dof, lower.tail = TRUE) - pchisq(lowerchisq, dof, lower.tail = TRUE)"
   ]
  },
  {
   "cell_type": "code",
   "execution_count": 66,
   "id": "editorial-limitation",
   "metadata": {},
   "outputs": [
    {
     "data": {
      "text/html": [
       "1.23767667579435"
      ],
      "text/latex": [
       "1.23767667579435"
      ],
      "text/markdown": [
       "1.23767667579435"
      ],
      "text/plain": [
       "[1] 1.237677"
      ]
     },
     "metadata": {},
     "output_type": "display_data"
    },
    {
     "data": {
      "text/html": [
       "3.92866783691295"
      ],
      "text/latex": [
       "3.92866783691295"
      ],
      "text/markdown": [
       "3.92866783691295"
      ],
      "text/plain": [
       "[1] 3.928668"
      ]
     },
     "metadata": {},
     "output_type": "display_data"
    },
    {
     "data": {
      "text/html": [
       "0.0117412046428492"
      ],
      "text/latex": [
       "0.0117412046428492"
      ],
      "text/markdown": [
       "0.0117412046428492"
      ],
      "text/plain": [
       "[1] 0.0117412"
      ]
     },
     "metadata": {},
     "output_type": "display_data"
    }
   ],
   "source": [
    "#testing var\n",
    "sample_var = 2.03 #sd(data) ^ 2\n",
    "n = 25 #length(data)\n",
    "dof = n-1\n",
    "var = 1.15\n",
    "alpha = 0.05\n",
    "test_stat = (n-1)*sample_var/var\n",
    "\n",
    "lowertail = TRUE\n",
    "pvalue = pchisq(test_stat, dof, lower.tail = lowertail)\n",
    "\n",
    "#confidence interval\n",
    "m = (n-1) * sample_var\n",
    "left = m/qchisq(alpha/2, dof, lower.tail = FALSE)\n",
    "right = m/qchisq(1-alpha/2, dof, lower.tail = FALSE)\n",
    "\n",
    "left\n",
    "right\n",
    "1-pvalue"
   ]
  },
  {
   "cell_type": "markdown",
   "id": "through-disabled",
   "metadata": {},
   "source": [
    "# F distribution"
   ]
  },
  {
   "cell_type": "code",
   "execution_count": null,
   "id": "ahead-driver",
   "metadata": {},
   "outputs": [],
   "source": [
    "#p lower <= X <= upper - if single value, put same\n",
    "pf(upper, dof1, dof2, lower.tail = TRUE) - pf(lower, dof1, dof2, lower.tail = TRUE)\n",
    "\n",
    "#cumulative , less than or equal to <= / greater than >\n",
    "pf(f, dof1, dof2, lower.tail = lowertail)\n",
    "\n",
    "#F* value given p\n",
    "qf(probability, dof1, dof2, lower.tail = lowertail)"
   ]
  },
  {
   "cell_type": "code",
   "execution_count": 33,
   "id": "checked-feeding",
   "metadata": {},
   "outputs": [
    {
     "data": {
      "text/html": [
       "0.013855008724778"
      ],
      "text/latex": [
       "0.013855008724778"
      ],
      "text/markdown": [
       "0.013855008724778"
      ],
      "text/plain": [
       "[1] 0.01385501"
      ]
     },
     "metadata": {},
     "output_type": "display_data"
    },
    {
     "data": {
      "text/html": [
       "0.793519831811013"
      ],
      "text/latex": [
       "0.793519831811013"
      ],
      "text/markdown": [
       "0.793519831811013"
      ],
      "text/plain": [
       "[1] 0.7935198"
      ]
     },
     "metadata": {},
     "output_type": "display_data"
    },
    {
     "data": {
      "text/html": [
       "0.0329771798202327"
      ],
      "text/latex": [
       "0.0329771798202327"
      ],
      "text/markdown": [
       "0.0329771798202327"
      ],
      "text/plain": [
       "[1] 0.03297718"
      ]
     },
     "metadata": {},
     "output_type": "display_data"
    },
    {
     "data": {
      "text/html": [
       "0.0862773722627737"
      ],
      "text/latex": [
       "0.0862773722627737"
      ],
      "text/markdown": [
       "0.0862773722627737"
      ],
      "text/plain": [
       "[1] 0.08627737"
      ]
     },
     "metadata": {},
     "output_type": "display_data"
    }
   ],
   "source": [
    "n1 = length(data1)\n",
    "n2 = length(data2)\n",
    "s1 = sd(data1)\n",
    "s2 = sd(data2)\n",
    "ratioOfVarSq = 1\n",
    "lowertail = FALSE\n",
    "\n",
    "alpha = 0.05\n",
    "\n",
    "var1 = s1^2\n",
    "var2 = s2^2\n",
    "dof1 = n1-1\n",
    "dof2 = n2-1\n",
    "\n",
    "ratio = (s1^2)/(s2^2)\n",
    "#CI\n",
    "left = ratio/qf(alpha/2, dof1, dof2, lower.tail = FALSE)\n",
    "right = ratio/qf(1-alpha/2, dof1, dof2, lower.tail = FALSE)\n",
    "\n",
    "\n",
    "#testing var2/var1\n",
    "f = (var1/var2)*value\n",
    "pvalue = pf(f, dof1, dof2, lower.tail = lowertail)\n",
    "\n",
    "left\n",
    "right\n",
    "(1-pvalue) *2\n",
    "f"
   ]
  },
  {
   "cell_type": "code",
   "execution_count": null,
   "id": "smaller-rebound",
   "metadata": {},
   "outputs": [],
   "source": []
  },
  {
   "cell_type": "markdown",
   "id": "compressed-intent",
   "metadata": {},
   "source": [
    "# Data"
   ]
  },
  {
   "cell_type": "code",
   "execution_count": 64,
   "id": "productive-anger",
   "metadata": {},
   "outputs": [
    {
     "data": {
      "text/html": [
       "<ol class=list-inline>\n",
       "\t<li>0.100000000000001</li>\n",
       "\t<li>-0.2</li>\n",
       "\t<li>0.399999999999999</li>\n",
       "\t<li>0.0999999999999996</li>\n",
       "\t<li>-0.0999999999999996</li>\n",
       "\t<li>0.0999999999999996</li>\n",
       "\t<li>0</li>\n",
       "\t<li>0.2</li>\n",
       "\t<li>0.5</li>\n",
       "\t<li>0.2</li>\n",
       "\t<li>0.0999999999999996</li>\n",
       "\t<li>0.3</li>\n",
       "</ol>\n"
      ],
      "text/latex": [
       "\\begin{enumerate*}\n",
       "\\item 0.100000000000001\n",
       "\\item -0.2\n",
       "\\item 0.399999999999999\n",
       "\\item 0.0999999999999996\n",
       "\\item -0.0999999999999996\n",
       "\\item 0.0999999999999996\n",
       "\\item 0\n",
       "\\item 0.2\n",
       "\\item 0.5\n",
       "\\item 0.2\n",
       "\\item 0.0999999999999996\n",
       "\\item 0.3\n",
       "\\end{enumerate*}\n"
      ],
      "text/markdown": [
       "1. 0.100000000000001\n",
       "2. -0.2\n",
       "3. 0.399999999999999\n",
       "4. 0.0999999999999996\n",
       "5. -0.0999999999999996\n",
       "6. 0.0999999999999996\n",
       "7. 0\n",
       "8. 0.2\n",
       "9. 0.5\n",
       "10. 0.2\n",
       "11. 0.0999999999999996\n",
       "12. 0.3\n",
       "\n",
       "\n"
      ],
      "text/plain": [
       " [1]  0.1 -0.2  0.4  0.1 -0.1  0.1  0.0  0.2  0.5  0.2  0.1  0.3"
      ]
     },
     "metadata": {},
     "output_type": "display_data"
    }
   ],
   "source": [
    "#bivariate data\n",
    "data1 <- c(4.2, 4.7, 6.6, 7, 6.7, 4.5, 5.7, 6, 7.4, 4.9, 6.1, 5.2) \n",
    "data2 <- c(4.1, 4.9, 6.2, 6.9, 6.8, 4.4, 5.7, 5.8, 6.9, 4.7, 6, 4.9)\n",
    "data = c()\n",
    "\n",
    "s1 = sd(data1)\n",
    "n1 = length(data1)\n",
    "dof1 = n1-1\n",
    "s2 = sd(data2)\n",
    "n2 = length(data2)\n",
    "dof2 = n2 - 1\n",
    "\n",
    "for (i in 1:n1) {\n",
    "    data <- c(data, data1[i]-data2[i])\n",
    "} \n",
    "\n",
    "data"
   ]
  },
  {
   "cell_type": "code",
   "execution_count": 47,
   "id": "israeli-christmas",
   "metadata": {},
   "outputs": [],
   "source": [
    "#univariate data\n",
    "data <- c(10.2, 9.7, 10.1, 10.3, 10.1, 9.8, 9.9, 10.4, 10.3, 9.8)\n",
    "sd = sd(data)\n",
    "n = length(data)\n",
    "dof = n-1"
   ]
  },
  {
   "cell_type": "code",
   "execution_count": 120,
   "id": "mechanical-compound",
   "metadata": {},
   "outputs": [
    {
     "data": {
      "text/plain": [
       "[1] The Expectation is 5.300000"
      ]
     },
     "metadata": {},
     "output_type": "display_data"
    },
    {
     "data": {
      "text/plain": [
       "[1] The Variance is 0.810000"
      ]
     },
     "metadata": {},
     "output_type": "display_data"
    },
    {
     "data": {
      "text/plain": [
       "[1] The Standard Deviation is 0.900000"
      ]
     },
     "metadata": {},
     "output_type": "display_data"
    }
   ],
   "source": [
    "#Prob Tables\n",
    "\n",
    "x <- c(4,5,6,7)\n",
    "Pr <- c(0.2,0.4,0.3,0.1)\n",
    "eX = 0\n",
    "var = 0\n",
    "stdev = 0\n",
    "\n",
    "for (i in 1:length(x)){\n",
    "    eX = eX + x[i]*Pr[i]\n",
    "}\n",
    "\n",
    "for (i in 1:length(x)){\n",
    "    var = var + ((x[i]-eX)**2)*Pr[i]\n",
    "}\n",
    "\n",
    "stdev = sqrt(var)\n",
    "\n",
    "noquote(sprintf(\"The Expectation is %f\",eX[1]))\n",
    "noquote(sprintf(\"The Variance is %f\",var))\n",
    "noquote(sprintf(\"The Standard Deviation is %f\",stdev))\n"
   ]
  },
  {
   "cell_type": "code",
   "execution_count": 116,
   "id": "prerequisite-mobility",
   "metadata": {},
   "outputs": [
    {
     "data": {
      "text/html": [
       "2.2"
      ],
      "text/latex": [
       "2.2"
      ],
      "text/markdown": [
       "2.2"
      ],
      "text/plain": [
       "[1] 2.2"
      ]
     },
     "metadata": {},
     "output_type": "display_data"
    }
   ],
   "source": []
  },
  {
   "cell_type": "code",
   "execution_count": null,
   "id": "8502af3b",
   "metadata": {},
   "outputs": [],
   "source": []
  },
  {
   "cell_type": "code",
   "execution_count": null,
   "id": "959202d0",
   "metadata": {},
   "outputs": [],
   "source": []
  },
  {
   "cell_type": "code",
   "execution_count": null,
   "id": "929a2b9e",
   "metadata": {},
   "outputs": [],
   "source": []
  }
 ],
 "metadata": {
  "kernelspec": {
   "display_name": "R",
   "language": "R",
   "name": "ir"
  },
  "language_info": {
   "codemirror_mode": "r",
   "file_extension": ".r",
   "mimetype": "text/x-r-source",
   "name": "R",
   "pygments_lexer": "r",
   "version": "3.6.1"
  },
  "toc": {
   "base_numbering": 1,
   "nav_menu": {},
   "number_sections": true,
   "sideBar": true,
   "skip_h1_title": false,
   "title_cell": "Table of Contents",
   "title_sidebar": "Contents",
   "toc_cell": false,
   "toc_position": {
    "height": "calc(100% - 180px)",
    "left": "10px",
    "top": "150px",
    "width": "426.667px"
   },
   "toc_section_display": true,
   "toc_window_display": true
  },
  "varInspector": {
   "cols": {
    "lenName": 16,
    "lenType": 16,
    "lenVar": 40
   },
   "kernels_config": {
    "python": {
     "delete_cmd_postfix": "",
     "delete_cmd_prefix": "del ",
     "library": "var_list.py",
     "varRefreshCmd": "print(var_dic_list())"
    },
    "r": {
     "delete_cmd_postfix": ") ",
     "delete_cmd_prefix": "rm(",
     "library": "var_list.r",
     "varRefreshCmd": "cat(var_dic_list()) "
    }
   },
   "types_to_exclude": [
    "module",
    "function",
    "builtin_function_or_method",
    "instance",
    "_Feature"
   ],
   "window_display": false
  }
 },
 "nbformat": 4,
 "nbformat_minor": 5
}
