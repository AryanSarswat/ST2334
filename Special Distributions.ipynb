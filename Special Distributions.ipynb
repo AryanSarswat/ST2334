{
 "cells": [
  {
   "cell_type": "code",
   "execution_count": 1,
   "id": "dd56fb1d",
   "metadata": {},
   "outputs": [
    {
     "name": "stderr",
     "output_type": "stream",
     "text": [
      "Warning message:\n",
      "\"package 'rSymPy' was built under R version 3.6.3\"Loading required package: rJython\n",
      "Warning message:\n",
      "\"package 'rJython' was built under R version 3.6.3\"Loading required package: rJava\n",
      "Warning message:\n",
      "\"package 'rJava' was built under R version 3.6.3\"Loading required package: rjson\n"
     ]
    }
   ],
   "source": [
    "library(rSymPy)"
   ]
  },
  {
   "cell_type": "markdown",
   "id": "47786643",
   "metadata": {},
   "source": [
    "## Functions"
   ]
  },
  {
   "cell_type": "code",
   "execution_count": 2,
   "id": "780e6794",
   "metadata": {},
   "outputs": [],
   "source": [
    "Exp <- function(x) Sym(\"exp(\", x, \")\") \n",
    "Pow <- function(x,y) Sym(\"Pow(\",x,\",\",y,\")\")"
   ]
  },
  {
   "cell_type": "markdown",
   "id": "f1d80231",
   "metadata": {},
   "source": [
    "# Integrals"
   ]
  },
  {
   "cell_type": "markdown",
   "id": "b1d7f54f",
   "metadata": {},
   "source": [
    "## Single Variable"
   ]
  },
  {
   "cell_type": "code",
   "execution_count": 3,
   "id": "57107e2d",
   "metadata": {},
   "outputs": [],
   "source": [
    "calculateAllx<- function(fx,x_upper, x_lower){\n",
    "    \n",
    "    #Integral\n",
    "    fx_str = paste(\"integrate(\",fx,\", (x,\",x_lower,\",\",x_upper,\")).evalf()\",sep = \"\")\n",
    "    fx_int = sympy(fx_str)\n",
    "    eX_str = paste(\"integrate(x*\",fx,\", (x,\",x_lower,\",\",x_upper,\")).evalf()\",sep=\"\")\n",
    "    eX = sympy(eX_str)\n",
    "    eX2_str = paste(\"integrate((x**2)*\",fx,\", (x,\",x_lower,\",\",x_upper,\")).evalf()\",sep=\"\")\n",
    "    eX2 = sympy(eX2_str)\n",
    "    varX_str = paste(eX2,\"-(\",eX,\")**2\",sep=\"\")\n",
    "    varX = sympy(varX_str)\n",
    "\n",
    "    #printing\n",
    "    \n",
    "    print(\"----- CHARACTERISTICS OF X -----\")\n",
    "    print(noquote(paste(\"Integral of fx with provided limits: \", fx_int)))\n",
    "    print(noquote(paste(\"eX is: \", eX)))\n",
    "    print(noquote(paste(\"eX2 is: \", eX2)))\n",
    "    print(noquote(paste(\"varX is: \", varX)))\n",
    "}"
   ]
  },
  {
   "cell_type": "code",
   "execution_count": 7,
   "id": "f16ab84e",
   "metadata": {},
   "outputs": [
    {
     "name": "stdout",
     "output_type": "stream",
     "text": [
      "[1] \"----- CHARACTERISTICS OF X -----\"\n",
      "[1] Integral of fx with provided limits:  0.500000000000000\n",
      "[1] eX is:  2.00000000000000\n",
      "[1] eX2 is:  8.16666666666667\n",
      "[1] varX is:  4.16666666667\n"
     ]
    }
   ],
   "source": [
    "x <- Var('x')\n",
    "p <- Var('p')\n",
    "#enter values here\n",
    "fx = 0.25\n",
    "\n",
    "x_upper = 5\n",
    "x_lower = 3\n",
    "\n",
    "calculateAllx(fx,x_upper, x_lower)"
   ]
  },
  {
   "cell_type": "code",
   "execution_count": 53,
   "id": "f10f63a3",
   "metadata": {},
   "outputs": [
    {
     "data": {
      "text/html": [
       "'(0.5 + x)/(0.5 + y)'"
      ],
      "text/latex": [
       "'(0.5 + x)/(0.5 + y)'"
      ],
      "text/markdown": [
       "'(0.5 + x)/(0.5 + y)'"
      ],
      "text/plain": [
       "[1] \"(0.5 + x)/(0.5 + y)\""
      ]
     },
     "metadata": {},
     "output_type": "display_data"
    }
   ],
   "source": [
    "e = \"(1/2 +x)\"\n",
    "f = \"(1/2 +y)\"\n",
    "t = paste(e,\"/\",f)\n",
    "#sympy(e)\n",
    "#eval(parse(text=e))\n",
    "c = eval(parse(text=t))\n",
    "sympy(c)"
   ]
  },
  {
   "cell_type": "markdown",
   "id": "48d9be16",
   "metadata": {},
   "source": [
    "## Two Variables"
   ]
  },
  {
   "cell_type": "code",
   "execution_count": 59,
   "id": "insured-companion",
   "metadata": {},
   "outputs": [],
   "source": [
    "calculateAll<- function(fxy, y_upper, y_lower, x_upper, x_lower, xval, yval){\n",
    "    \n",
    "    #X marginal distribution\n",
    "    fx_str = paste(\"integrate(\",fxy,\", (y,\",y_lower,\",\",y_upper,\"))\")\n",
    "    fx = sympy(fx_str)\n",
    "    eX_str = paste(\"integrate(x*\",fx,\", (x,\",x_lower,\",\",x_upper,\"))\")\n",
    "    eX = sympy(eX_str)\n",
    "    eX2_str = paste(\"integrate((x**2)*\",fx,\", (x,\",x_lower,\",\",x_upper,\"))\")\n",
    "    eX2 = sympy(eX2_str)\n",
    "    temp_eX = eval(parse(text=eX))\n",
    "    temp_eX2 = eval(parse(text=eX2))\n",
    "    varX_str = paste(temp_eX2,\"-(\",temp_eX,\")**2\")\n",
    "    varX = sympy(varX_str)\n",
    "\n",
    "    #Y marginal distribution\n",
    "    fy_str = paste(\"integrate(\",fxy,\", (x,\",x_lower,\",\",x_upper,\"))\")\n",
    "    fy = sympy(fy_str)\n",
    "    eY_str = paste(\"integrate(y*\",fy,\", (y,\",y_lower,\",\",y_upper,\"))\")\n",
    "    eY = sympy(eY_str)\n",
    "    eY2_str = paste(\"integrate((y**2)*\",fy,\", (y,\",y_lower,\",\",y_upper,\"))\")\n",
    "    eY2 = sympy(eY2_str)\n",
    "    temp_eY = eval(parse(text=eY))\n",
    "    temp_eY2 = eval(parse(text=eY2))\n",
    "    varY_str = paste(temp_eY2,\"-(\",temp_eY,\")**2\")\n",
    "    varY = sympy(varY_str)\n",
    "    \n",
    "    #XY distribution\n",
    "    eXY_str = paste(\"integrate(x*y*\",fxy,\", (y,\",y_lower,\",\",y_upper,\"),(x,\",x_lower,\",\",x_upper,\"))\")\n",
    "    eXY = sympy(eXY_str)\n",
    "    covXY = as.numeric(eXY) - as.numeric(eX)*as.numeric(eY)\n",
    "    \n",
    "    #X conditional distribution\n",
    "    fxgy0_str = paste(\"(\",fxy,\")/\",\"(\",fy,\")\")\n",
    "    fxgy0_str = eval(parse(text=fxgy0_str))\n",
    "    fxgy0 = sympy(fxgy0_str)\n",
    "    fxgy_str = paste(\"(\",fxgy0,\").subs({y:\",yval,\"})\")\n",
    "    fxgy = sympy(fxgy_str)\n",
    "    eXgY_str = paste(\"integrate(x*(\",fxgy,\"), (x,\",x_lower,\",\",x_upper,\"))\")\n",
    "    eXgY = sympy(eXgY_str)\n",
    "    varXgY_str = paste(\"integrate((x**2) *(\",fxgy,\"), (x,\",x_lower,\",\",x_upper,\"))\")\n",
    "    varXgY = sympy(varXgY_str)\n",
    "\n",
    "    #Y conditional distribution\n",
    "    fygx0_str = paste(\"(\",fxy,\")/\",\"(\",fx,\")\")\n",
    "    fygx0_str = eval(parse(text=fygx0_str))\n",
    "    fygx0 = sympy(fygx0_str)\n",
    "    fygx_str = paste(\"(\",fygx0,\").subs({x:\",xval,\"})\")\n",
    "    fygx = sympy(fygx_str)\n",
    "    eYgX_str = paste(\"integrate(y*(\",fygx,\"), (y,\",y_lower,\",\",y_upper,\"))\")\n",
    "    eYgX = sympy(eYgX_str)\n",
    "    varYgX_str = paste(\"integrate((y**2)*(\",fygx,\"), (y,\",y_lower,\",\",y_upper,\"))\")\n",
    "    varYgX = sympy(varYgX_str)\n",
    "    \n",
    "    # aX + bY\n",
    "    aXplusbY = a*x + b*y\n",
    "    eaXplusbY_str = paste(\"integrate(\",aXplusbY,\"*\",fxy,\",(\",\"x,\",x_lower,\",\",x_upper,\"),(y,\",y_lower,\",\",y_upper,\"))\",sep=\"\")\n",
    "    eaXplusbY = sympy(eaXplusbY_str)\n",
    "    varaXplusbY = (a**2)*as.numeric(varX) + (b**2)*as.numeric(varY) + 2*a*b*covXY\n",
    "    \n",
    "    #printing\n",
    "    \n",
    "    print(noquote(paste(\"are they independent? \", sympy(paste(fx,\"*\",fy, \"==\", fxy)))))\n",
    "    print(noquote(paste(\"covariance is: \", covXY)))\n",
    "    cat(\"\\n\")\n",
    "    \n",
    "    print(\"----- CHARACTERISTICS OF X -----\")\n",
    "    print(noquote(paste(\"fx is: \", fx)))\n",
    "    print(noquote(paste(\"eX is: \", eX)))\n",
    "    print(noquote(paste(\"eX2 is: \", eX2)))\n",
    "    print(noquote(paste(\"varX is: \", varX)))\n",
    "    \n",
    "    cat(\"\\n\")\n",
    "\n",
    "    noquote(paste(\"fy is: \", fy))\n",
    "    print(\"----- CHARACTERISTICS OF Y -----\")\n",
    "    print(noquote(paste(\"fy is: \", fy)))\n",
    "    print(noquote(paste(\"eY is: \", eY)))\n",
    "    print(noquote(paste(\"eY2 is: \", eY2)))\n",
    "    print(noquote(paste(\"varY is: \", varY)))\n",
    "    \n",
    "    cat(\"\\n\")\n",
    "\n",
    "    print(noquote(paste(\"----- X GIVEN Y, where y = \", yval, \"-----\")))\n",
    "    print(noquote(paste(\"fxgy0 is: \", fxgy0)))\n",
    "    print(noquote(paste(\"fxgy is: \", fxgy)))\n",
    "    print(noquote(paste(\"eXgY is: \", eXgY)))\n",
    "    print(noquote(paste(\"varXgY is: \", varXgY)))\n",
    "    \n",
    "    cat(\"\\n\")\n",
    "\n",
    "    print(noquote(paste(\"----- Y GIVEN X, where x = \", xval, \"-----\")))\n",
    "    print(noquote(paste(\"fygx0 is: \", fygx0)))\n",
    "    print(noquote(paste(\"fygx, x = \", xval, \" is: \", fygx)))\n",
    "    print(noquote(paste(\"eYgX is: \", eYgX)))\n",
    "    print(noquote(paste(\"varYgX is: \", varYgX)))\n",
    "    \n",
    "    cat(\"\\n\")\n",
    "    \n",
    "    print(\"----- aX + bY -----\")\n",
    "    print(noquote(paste(\"eaXplusbY is: \", eaXplusbY)))\n",
    "    print(noquote(paste(\"varaXplusbY is: \", varaXplusbY)))\n",
    "    \n",
    "    cat(\"\\n\")\n",
    "\n",
    "}"
   ]
  },
  {
   "cell_type": "code",
   "execution_count": 60,
   "id": "268152fc",
   "metadata": {},
   "outputs": [
    {
     "name": "stderr",
     "output_type": "stream",
     "text": [
      "Warning message in calculateAll(fxy, y_upper, y_lower, x_upper, x_lower, xval, yval):\n",
      "\"NAs introduced by coercion\"Warning message in calculateAll(fxy, y_upper, y_lower, x_upper, x_lower, xval, yval):\n",
      "\"NAs introduced by coercion\"Warning message in calculateAll(fxy, y_upper, y_lower, x_upper, x_lower, xval, yval):\n",
      "\"NAs introduced by coercion\""
     ]
    },
    {
     "name": "stdout",
     "output_type": "stream",
     "text": [
      "[1] are they independent?  False\n",
      "[1] covariance is:  NA\n",
      "\n",
      "[1] \"----- CHARACTERISTICS OF X -----\"\n",
      "[1] fx is:  1/2 + x\n",
      "[1] eX is:  3/4\n",
      "[1] eX2 is:  2/3\n",
      "[1] varX is:  0.104166666667\n",
      "\n",
      "[1] \"----- CHARACTERISTICS OF Y -----\"\n",
      "[1] fy is:  1/2 + y\n",
      "[1] eY is:  3/4\n",
      "[1] eY2 is:  2/3\n",
      "[1] varY is:  0.104166666667\n",
      "\n",
      "[1] ----- X GIVEN Y, where y =  0.5 -----\n",
      "[1] fxgy0 is:  (x + y)/(0.5 + y)\n",
      "[1] fxgy is:  0.5 + x\n",
      "[1] eXgY is:  0.583333333333333\n",
      "[1] varXgY is:  0.416666666666667\n",
      "\n",
      "[1] ----- Y GIVEN X, where x =  0.2 -----\n",
      "[1] fygx0 is:  (x + y)/(0.5 + x)\n",
      "[1] fygx, x =  0.2  is:  0.285714285714286 + 1.42857142857143*y\n",
      "[1] eYgX is:  0.619047619047620\n",
      "[1] varYgX is:  0.452380952380953\n",
      "\n",
      "[1] \"----- aX + bY -----\"\n",
      "[1] eaXplusbY is:  7/4\n",
      "[1] varaXplusbY is:  NA\n",
      "\n"
     ]
    }
   ],
   "source": [
    "y <- Var('y')\n",
    "x <- Var('x')\n",
    "\n",
    "#enter values here\n",
    "fxy = x+y\n",
    "\n",
    "x_upper = 1\n",
    "x_lower = 0\n",
    "y_upper = 1\n",
    "y_lower = 0\n",
    "\n",
    "xval = 0.2\n",
    "yval = 0.5\n",
    "\n",
    "a = 1\n",
    "b = 2\n",
    "\n",
    "calculateAll(fxy, y_upper, y_lower, x_upper, x_lower, xval, yval)\n"
   ]
  },
  {
   "cell_type": "code",
   "execution_count": 41,
   "id": "2ec4356c",
   "metadata": {},
   "outputs": [
    {
     "ename": "ERROR",
     "evalue": "Error in eval(expr, envir, enclos): object 'eXY' not found\n",
     "output_type": "error",
     "traceback": [
      "Error in eval(expr, envir, enclos): object 'eXY' not found\nTraceback:\n"
     ]
    }
   ],
   "source": [
    "#probability\n",
    "x_upper = 1\n",
    "x_lower = 0\n",
    "y_upper = 2\n",
    "y_lower = 1.5\n",
    "\n",
    "result = eXY\n",
    "resultY = eY2\n",
    "resultX = eX2\n",
    "\n",
    "as.numeric(sympy(paste(result,\"/\",resultX)))"
   ]
  },
  {
   "cell_type": "markdown",
   "id": "b6d9d5c8",
   "metadata": {},
   "source": [
    "# Chebyshev inequality"
   ]
  },
  {
   "cell_type": "markdown",
   "id": "c46ffc92",
   "metadata": {},
   "source": [
    "## Finding K"
   ]
  },
  {
   "cell_type": "code",
   "execution_count": null,
   "id": "333e3c94",
   "metadata": {},
   "outputs": [],
   "source": [
    "eX = 2.64\n",
    "sdX =  1.54\n",
    "upper = 21\n",
    "\n",
    "k_sig = upper-eX\n",
    "k = k_sig/sdX\n",
    "upper = eX + k*sdX\n",
    "lower = eX - k*sdX\n",
    "\n",
    "noquote(sprintf(\"The k is %d\",k))"
   ]
  },
  {
   "cell_type": "markdown",
   "id": "b3fa54ac",
   "metadata": {},
   "source": [
    "## Finding the limits"
   ]
  },
  {
   "cell_type": "code",
   "execution_count": 92,
   "id": "da4267ab",
   "metadata": {},
   "outputs": [
    {
     "data": {
      "text/plain": [
       "[1] The Upper Limit is 5.720000"
      ]
     },
     "metadata": {},
     "output_type": "display_data"
    },
    {
     "data": {
      "text/plain": [
       "[1] The Lower Limit is -0.440000"
      ]
     },
     "metadata": {},
     "output_type": "display_data"
    }
   ],
   "source": [
    "eX = 2.64\n",
    "sdX =  1.54\n",
    "k = 2\n",
    "\n",
    "upper = eX + k*sdX\n",
    "lower = eX - k*sdX\n",
    "\n",
    "noquote(sprintf(\"The Upper Limit is %f\",upper))\n",
    "noquote(sprintf(\"The Lower Limit is %f\",lower))"
   ]
  },
  {
   "cell_type": "markdown",
   "id": "exterior-default",
   "metadata": {},
   "source": [
    "# Bernoulli & binomial distribution"
   ]
  },
  {
   "cell_type": "markdown",
   "id": "coordinated-opinion",
   "metadata": {},
   "source": [
    "## Binomial"
   ]
  },
  {
   "cell_type": "code",
   "execution_count": 93,
   "id": "aggressive-peeing",
   "metadata": {},
   "outputs": [
    {
     "data": {
      "text/html": [
       "0.060886689216204"
      ],
      "text/latex": [
       "0.060886689216204"
      ],
      "text/markdown": [
       "0.060886689216204"
      ],
      "text/plain": [
       "[1] 0.06088669"
      ]
     },
     "metadata": {},
     "output_type": "display_data"
    },
    {
     "data": {
      "text/html": [
       "0.0409251677065186"
      ],
      "text/latex": [
       "0.0409251677065186"
      ],
      "text/markdown": [
       "0.0409251677065186"
      ],
      "text/plain": [
       "[1] 0.04092517"
      ]
     },
     "metadata": {},
     "output_type": "display_data"
    },
    {
     "data": {
      "text/html": [
       "0.617172654387105"
      ],
      "text/latex": [
       "0.617172654387105"
      ],
      "text/markdown": [
       "0.617172654387105"
      ],
      "text/plain": [
       "[1] 0.6171727"
      ]
     },
     "metadata": {},
     "output_type": "display_data"
    },
    {
     "data": {
      "text/html": [
       "6"
      ],
      "text/latex": [
       "6"
      ],
      "text/markdown": [
       "6"
      ],
      "text/plain": [
       "[1] 6"
      ]
     },
     "metadata": {},
     "output_type": "display_data"
    }
   ],
   "source": [
    "#individual outcome probability\n",
    "dbinom(x, size = n, prob = p)\n",
    "\n",
    "#cumulative pbinom (pvalue), less than or equal to <= / greater than >\n",
    "pbinom(x, size = n, prob = p, lower.tail = lowertail)\n",
    "\n",
    "#cumulative range, p of lower <= x <= upper\n",
    "pbinom(upper, size = n, prob = p, lower.tail = TRUE) - pbinom(lower, size = n, prob = p, lower.tail = TRUE)\n",
    "\n",
    "#x value given cumulative probability, less than or equal to <= / greater than >\n",
    "qbinom(0.25, size = n, prob = p, lower.tail = lowertail)"
   ]
  },
  {
   "cell_type": "code",
   "execution_count": 112,
   "id": "august-editing",
   "metadata": {},
   "outputs": [
    {
     "data": {
      "text/plain": [
       "[1] The Expectation is 10.000000"
      ]
     },
     "metadata": {},
     "output_type": "display_data"
    },
    {
     "data": {
      "text/plain": [
       "[1] The Variance is 5.000000"
      ]
     },
     "metadata": {},
     "output_type": "display_data"
    },
    {
     "data": {
      "text/plain": [
       "[1] The Standard Deviation is 2.236068"
      ]
     },
     "metadata": {},
     "output_type": "display_data"
    },
    {
     "data": {
      "text/plain": [
       "[1] Pr (X = 8.000000) = 0.120134"
      ]
     },
     "metadata": {},
     "output_type": "display_data"
    },
    {
     "data": {
      "text/plain": [
       "[1] Pr(X <= 8.000000) = 0.251722"
      ]
     },
     "metadata": {},
     "output_type": "display_data"
    },
    {
     "data": {
      "text/plain": [
       "[1] Pr( 2.000000 <= X <= 6.000000) = 0.057458"
      ]
     },
     "metadata": {},
     "output_type": "display_data"
    },
    {
     "data": {
      "text/plain": [
       "[1] when Pr(X <= c) = 0.200000, c = 8.000000"
      ]
     },
     "metadata": {},
     "output_type": "display_data"
    }
   ],
   "source": [
    "n = 20\n",
    "p = 1/2\n",
    "lowertail = TRUE\n",
    "x = 8\n",
    "\n",
    "upper = 6\n",
    "lower = 2\n",
    "\n",
    "probability = 0.2\n",
    "\n",
    "eX = n*p\n",
    "varX = n*p*(1-p)\n",
    "sdX = sqrt(varX)\n",
    "\n",
    "\n",
    "noquote(sprintf(\"The Expectation is %f\",eX))\n",
    "noquote(sprintf(\"The Variance is %f\",varX))\n",
    "noquote(sprintf(\"The Standard Deviation is %f\",sdX))\n",
    "\n",
    "v = dbinom(x, size = n, prob = p)\n",
    "\n",
    "ld = pbinom(x, size = n, prob = p, lower.tail = lowertail)\n",
    "\n",
    "bw = pbinom(upper, size = n, prob = p, lower.tail = TRUE) - pbinom(lower, size = n, prob = p, lower.tail = TRUE)\n",
    "\n",
    "x_val = qbinom(probability, size = n, prob = p, lower.tail = lowertail)\n",
    "\n",
    "noquote(sprintf(\"Pr (X = %f) = %f\",x,v))\n",
    "\n",
    "if (lowertail == FALSE){\n",
    "    noquote(sprintf(\"Pr (X > %f) = %f\",x,ld))\n",
    "}else\n",
    "    noquote(sprintf(\"Pr(X <= %f) = %f\",x,ld))\n",
    "\n",
    "noquote(sprintf(\"Pr( %f <= X <= %f) = %f\",lower,upper,bw))\n",
    "\n",
    "if (lowertail == FALSE){\n",
    "    noquote(sprintf(\"when Pr(X > c) = %f, c = %f\",probability,x_val))\n",
    "}else\n",
    "    noquote(sprintf(\"when Pr(X <= c) = %f, c = %f\",probability,x_val))\n"
   ]
  },
  {
   "cell_type": "markdown",
   "id": "sacred-duplicate",
   "metadata": {},
   "source": [
    "## Normal approximation"
   ]
  },
  {
   "cell_type": "code",
   "execution_count": 86,
   "id": "going-modification",
   "metadata": {},
   "outputs": [
    {
     "data": {
      "text/html": [
       "0.636544066653086"
      ],
      "text/latex": [
       "0.636544066653086"
      ],
      "text/markdown": [
       "0.636544066653086"
      ],
      "text/plain": [
       "[1] 0.6365441"
      ]
     },
     "metadata": {},
     "output_type": "display_data"
    },
    {
     "data": {
      "text/html": [
       "0.0606676251792411"
      ],
      "text/latex": [
       "0.0606676251792411"
      ],
      "text/markdown": [
       "0.0606676251792411"
      ],
      "text/plain": [
       "[1] 0.06066763"
      ]
     },
     "metadata": {},
     "output_type": "display_data"
    },
    {
     "data": {
      "text/html": [
       "0.636544066653086"
      ],
      "text/latex": [
       "0.636544066653086"
      ],
      "text/markdown": [
       "0.636544066653086"
      ],
      "text/plain": [
       "[1] 0.6365441"
      ]
     },
     "metadata": {},
     "output_type": "display_data"
    },
    {
     "data": {
      "text/html": [
       "8.18524535206596"
      ],
      "text/latex": [
       "8.18524535206596"
      ],
      "text/markdown": [
       "8.18524535206596"
      ],
      "text/plain": [
       "[1] 8.185245"
      ]
     },
     "metadata": {},
     "output_type": "display_data"
    }
   ],
   "source": [
    "#p lower <= X <= upper - if single value, put same\n",
    "pnorm(upper, eX, sdX, lower.tail = TRUE) - pnorm(lower, eX, sdX, lower.tail = TRUE)\n",
    "\n",
    "#cumulative , less than or equal to <= / greater than >\n",
    "pnorm(x, eX, sdX, lower.tail = lowertail)\n",
    "\n",
    "#cumulative range\n",
    "pnorm(upper, eX, sdX, lower.tail = TRUE) - pnorm(lower, eX, sdX, lower.tail = TRUE)\n",
    "\n",
    "#z* value given p\n",
    "qnorm(0.05, eX, sdX, lower.tail = lowertail)"
   ]
  },
  {
   "cell_type": "code",
   "execution_count": 108,
   "id": "direct-startup",
   "metadata": {},
   "outputs": [
    {
     "data": {
      "text/plain": [
       "[1] The Expectation is 10.000000"
      ]
     },
     "metadata": {},
     "output_type": "display_data"
    },
    {
     "data": {
      "text/plain": [
       "[1] The Variance is 5.000000"
      ]
     },
     "metadata": {},
     "output_type": "display_data"
    },
    {
     "data": {
      "text/plain": [
       "[1] The Standard Deviation is 2.236068"
      ]
     },
     "metadata": {},
     "output_type": "display_data"
    },
    {
     "data": {
      "text/plain": [
       "[1] Pr (X > 9.500000) = 0.588468"
      ]
     },
     "metadata": {},
     "output_type": "display_data"
    },
    {
     "data": {
      "text/plain": [
       "[1] Pr( 34.500000 <= X <= 47.500000) = 0.000000"
      ]
     },
     "metadata": {},
     "output_type": "display_data"
    },
    {
     "data": {
      "text/plain": [
       "[1] when Pr(X > c) = 0.200000, c = 11.881922"
      ]
     },
     "metadata": {},
     "output_type": "display_data"
    }
   ],
   "source": [
    "n = 20\n",
    "p = 0.5\n",
    "x = 9.5\n",
    "lower = 35 - 0.5\n",
    "upper = 47 + 0.5\n",
    "\n",
    "lowertail = FALSE\n",
    "\n",
    "probability = 0.2\n",
    "\n",
    "eX = n*p\n",
    "varX = n*p*(1-p)\n",
    "sdX = sqrt(varX)\n",
    "\n",
    "\n",
    "noquote(sprintf(\"The Expectation is %f\",eX))\n",
    "noquote(sprintf(\"The Variance is %f\",varX))\n",
    "noquote(sprintf(\"The Standard Deviation is %f\",sdX))\n",
    "\n",
    "#p lower <= X <= upper - if single value, put same\n",
    "bw = pnorm(upper, eX, sdX, lower.tail = TRUE) - pnorm(lower, eX, sdX, lower.tail = TRUE)\n",
    "\n",
    "#cumulative , less than or equal to <= / greater than >\n",
    "ld =pnorm(x, eX, sdX, lower.tail = lowertail)\n",
    "\n",
    "#z* value given p\n",
    "z_val =qnorm(probability, eX, sdX, lower.tail = lowertail)\n",
    "\n",
    "if (lowertail == FALSE){\n",
    "    noquote(sprintf(\"Pr (X > %f) = %f\",x,ld))\n",
    "}else\n",
    "    noquote(sprintf(\"Pr(X <= %f) = %f\",x,ld))\n",
    "\n",
    "noquote(sprintf(\"Pr( %f <= X <= %f) = %f\",lower,upper,bw))\n",
    "\n",
    "if (lowertail == FALSE){\n",
    "    noquote(sprintf(\"when Pr(X > c) = %f, c = %f\",probability,z_val))\n",
    "}else\n",
    "    noquote(sprintf(\"when Pr(X <= c) = %f, c = %f\",probability,z_val))"
   ]
  },
  {
   "cell_type": "markdown",
   "id": "suspended-seeking",
   "metadata": {},
   "source": [
    "## Poisson approximation"
   ]
  },
  {
   "cell_type": "code",
   "execution_count": 82,
   "id": "athletic-editor",
   "metadata": {},
   "outputs": [
    {
     "data": {
      "text/html": [
       "0.0904837418035959"
      ],
      "text/latex": [
       "0.0904837418035959"
      ],
      "text/markdown": [
       "0.0904837418035959"
      ],
      "text/plain": [
       "[1] 0.09048374"
      ]
     },
     "metadata": {},
     "output_type": "display_data"
    },
    {
     "data": {
      "text/html": [
       "0.00467884016044447"
      ],
      "text/latex": [
       "0.00467884016044447"
      ],
      "text/markdown": [
       "0.00467884016044447"
      ],
      "text/plain": [
       "[1] 0.00467884"
      ]
     },
     "metadata": {},
     "output_type": "display_data"
    },
    {
     "data": {
      "text/html": [
       "0"
      ],
      "text/latex": [
       "0"
      ],
      "text/markdown": [
       "0"
      ],
      "text/plain": [
       "[1] 0"
      ]
     },
     "metadata": {},
     "output_type": "display_data"
    },
    {
     "data": {
      "text/html": [
       "0"
      ],
      "text/latex": [
       "0"
      ],
      "text/markdown": [
       "0"
      ],
      "text/plain": [
       "[1] 0"
      ]
     },
     "metadata": {},
     "output_type": "display_data"
    }
   ],
   "source": [
    "#exact probability\n",
    "dpois(x, lam = lam, log = FALSE)\n",
    "\n",
    "#cumulative pbinom (pvalue), less than or equal to <= / greater than >\n",
    "ppois(x, lam = lam, lower.tail = lowertail, log.p = FALSE)\n",
    "\n",
    "#cumulative range\n",
    "ppois(upper, lam = lam, lower.tail = TRUE, log.p = FALSE) - ppois(lower, lam = lam, lower.tail = TRUE, log.p = FALSE)\n",
    "\n",
    "#inverse given p\n",
    "qpois(p, lam, lower.tail = TRUE, log.p = FALSE)"
   ]
  },
  {
   "cell_type": "code",
   "execution_count": 107,
   "id": "phantom-politics",
   "metadata": {},
   "outputs": [
    {
     "data": {
      "text/plain": [
       "[1] Pr (X = 6.000000) = 0.122138"
      ]
     },
     "metadata": {},
     "output_type": "display_data"
    },
    {
     "data": {
      "text/plain": [
       "[1] Pr(X <= 6.000000) = 0.313374"
      ]
     },
     "metadata": {},
     "output_type": "display_data"
    },
    {
     "data": {
      "text/plain": [
       "[1] Pr( 184.000000 <= X <= 210.000000) = 0.000000"
      ]
     },
     "metadata": {},
     "output_type": "display_data"
    },
    {
     "data": {
      "text/plain": [
       "[1] when Pr(X <= c) = 0.200000, c = 6.000000"
      ]
     },
     "metadata": {},
     "output_type": "display_data"
    }
   ],
   "source": [
    "n = 8000\n",
    "p = 0.001\n",
    "lowertail = TRUE\n",
    "x = 6\n",
    "upper = 210\n",
    "lower = 184\n",
    "\n",
    "probability = 0.2\n",
    "\n",
    "lam = n*p\n",
    "\n",
    "v = dpois(x, lam = lam, log = FALSE)\n",
    "\n",
    "#cumulative pbinom (pvalue), less than or equal to <= / greater than >\n",
    "ld = ppois(x, lam = lam, lower.tail = lowertail, log.p = FALSE)\n",
    "\n",
    "#cumulative range\n",
    "bw = ppois(upper, lam = lam, lower.tail = TRUE, log.p = FALSE) - ppois(lower, lam = lam, lower.tail = TRUE, log.p = FALSE)\n",
    "\n",
    "#inverse given p\n",
    "x_val =qpois(probability, lam, lower.tail = TRUE, log.p = FALSE)\n",
    "\n",
    "noquote(sprintf(\"Pr (X = %f) = %f\",x,v))\n",
    "\n",
    "if (lowertail == FALSE){\n",
    "    noquote(sprintf(\"Pr (X > %f) = %f\",x,ld))\n",
    "}else\n",
    "    noquote(sprintf(\"Pr(X <= %f) = %f\",x,ld))\n",
    "\n",
    "noquote(sprintf(\"Pr( %f <= X <= %f) = %f\",lower,upper,bw))\n",
    "\n",
    "if (lowertail == FALSE){\n",
    "    noquote(sprintf(\"when Pr(X > c) = %f, c = %f\",probability,x_val))\n",
    "}else\n",
    "    noquote(sprintf(\"when Pr(X <= c) = %f, c = %f\",probability,x_val))\n"
   ]
  },
  {
   "cell_type": "markdown",
   "id": "wound-examination",
   "metadata": {},
   "source": [
    "# Negative Binomial & geometric distribution"
   ]
  },
  {
   "cell_type": "code",
   "execution_count": null,
   "id": "grand-success",
   "metadata": {},
   "outputs": [],
   "source": [
    "#individual outcome probability\n",
    "dnbinom(trials-num_success, size = num_success, prob = p)\n",
    "\n",
    "#cumulative pbinom (pvalue), less than or equal to <= / greater than >\n",
    "pnbinom(trials-num_success, size = num_success, prob = p, lower.tail = lowertail)\n"
   ]
  },
  {
   "cell_type": "code",
   "execution_count": 102,
   "id": "adult-paragraph",
   "metadata": {},
   "outputs": [
    {
     "data": {
      "text/plain": [
       "[1] The Expectation is 7.272727"
      ]
     },
     "metadata": {},
     "output_type": "display_data"
    },
    {
     "data": {
      "text/plain": [
       "[1] The Variance is 5.950413"
      ]
     },
     "metadata": {},
     "output_type": "display_data"
    },
    {
     "data": {
      "text/plain": [
       "[1] The Standard Deviation is 2.439347"
      ]
     },
     "metadata": {},
     "output_type": "display_data"
    },
    {
     "data": {
      "text/plain": [
       "[1] Probability for 4 success in 6 trials is = 0.185300"
      ]
     },
     "metadata": {},
     "output_type": "display_data"
    },
    {
     "data": {
      "text/plain": [
       "[1] Probability for more than 4 successes in 6 trials is = 0.558482"
      ]
     },
     "metadata": {},
     "output_type": "display_data"
    }
   ],
   "source": [
    "num_success = 4\n",
    "p = 0.55\n",
    "lowertail = FALSE\n",
    "trials = 6\n",
    "\n",
    "eX = num_success/p\n",
    "varX = ((1-p)*num_success)/(p^2)\n",
    "sdX = sqrt(varX)\n",
    "\n",
    "noquote(sprintf(\"The Expectation is %f\",eX))\n",
    "noquote(sprintf(\"The Variance is %f\",varX))\n",
    "noquote(sprintf(\"The Standard Deviation is %f\",sdX))\n",
    "\n",
    "v = dnbinom(trials-num_success, size = num_success, prob = p)\n",
    "\n",
    "ld = pnbinom(trials-num_success, size = num_success, prob = p, lower.tail = lowertail)\n",
    "\n",
    "noquote(sprintf(\"Probability for %d success in %d trials is = %f\",num_success,trials,v))\n",
    "\n",
    "if (lowertail==FALSE){\n",
    "    noquote(sprintf(\"Probability for more than %d successes in %d trials is = %f\",num_success,trials,ld))\n",
    "} else{\n",
    "    noquote(sprintf(\"Probability for less than or equal to than %d successes in %d trials is = %f\",num_success,trials,ld))\n",
    "}"
   ]
  },
  {
   "cell_type": "markdown",
   "id": "together-tours",
   "metadata": {},
   "source": [
    "# Poisson distribution"
   ]
  },
  {
   "cell_type": "code",
   "execution_count": null,
   "id": "sixth-milton",
   "metadata": {},
   "outputs": [],
   "source": [
    "#exact probability\n",
    "dpois(x, lam = lam, log = FALSE)\n",
    "\n",
    "#cumulative pbinom (pvalue), less than or equal to <= / greater than >\n",
    "ppois(x, lam = lam, lower.tail = lowertail, log.p = FALSE)\n",
    "\n",
    "#cumulative range\n",
    "ppois(upper, lam = lam, lower.tail = TRUE, log.p = FALSE) - ppois(lower, lam = lam, lower.tail = TRUE, log.p = FALSE)\n",
    "\n",
    "#inverse given p\n",
    "qpois(p, lam, lower.tail = TRUE, log.p = FALSE)\n"
   ]
  },
  {
   "cell_type": "code",
   "execution_count": 106,
   "id": "suited-manor",
   "metadata": {},
   "outputs": [
    {
     "data": {
      "text/plain": [
       "[1] The Expectation is 10.000000"
      ]
     },
     "metadata": {},
     "output_type": "display_data"
    },
    {
     "data": {
      "text/plain": [
       "[1] The Variance is 10.000000"
      ]
     },
     "metadata": {},
     "output_type": "display_data"
    },
    {
     "data": {
      "text/plain": [
       "[1] The Standard Deviation is 3.162278"
      ]
     },
     "metadata": {},
     "output_type": "display_data"
    },
    {
     "data": {
      "text/plain": [
       "[1] Pr (X = 15.000000) = 0.034718"
      ]
     },
     "metadata": {},
     "output_type": "display_data"
    },
    {
     "data": {
      "text/plain": [
       "[1] Pr (X > 15.000000) = 0.048740"
      ]
     },
     "metadata": {},
     "output_type": "display_data"
    },
    {
     "data": {
      "text/plain": [
       "[1] Pr( 184.000000 <= X <= 210.000000) = 0.000000"
      ]
     },
     "metadata": {},
     "output_type": "display_data"
    },
    {
     "data": {
      "text/plain": [
       "[1] when Pr(X > c) = 0.200000, c = 7.000000"
      ]
     },
     "metadata": {},
     "output_type": "display_data"
    }
   ],
   "source": [
    "lam = 10\n",
    "lowertail = FALSE\n",
    "\n",
    "x = 15\n",
    "upper = 210\n",
    "lower = 184\n",
    "probability = 0.2\n",
    "\n",
    "eX = lam\n",
    "varX = lam\n",
    "sdX = sqrt(varX)\n",
    "\n",
    "noquote(sprintf(\"The Expectation is %f\",eX))\n",
    "noquote(sprintf(\"The Variance is %f\",varX))\n",
    "noquote(sprintf(\"The Standard Deviation is %f\",sdX))\n",
    "\n",
    "\n",
    "#exact probability\n",
    "v = dpois(x, lam = lam, log = FALSE)\n",
    "\n",
    "#cumulative pbinom (pvalue), less than or equal to <= / greater than >\n",
    "ld = ppois(x, lam = lam, lower.tail = lowertail, log.p = FALSE)\n",
    "\n",
    "#cumulative range\n",
    "bw = ppois(upper, lam = lam, lower.tail = TRUE, log.p = FALSE) - ppois(lower, lam = lam, lower.tail = TRUE, log.p = FALSE)\n",
    "\n",
    "#inverse given p\n",
    "x_val = qpois(probability, lam, lower.tail = TRUE, log.p = FALSE)\n",
    "\n",
    "noquote(sprintf(\"Pr (X = %f) = %f\",x,v))\n",
    "\n",
    "if (lowertail == FALSE){\n",
    "    noquote(sprintf(\"Pr (X > %f) = %f\",x,ld))\n",
    "}else\n",
    "    noquote(sprintf(\"Pr(X <= %f) = %f\",x,ld))\n",
    "\n",
    "noquote(sprintf(\"Pr( %f <= X <= %f) = %f\",lower,upper,bw))\n",
    "\n",
    "if (lowertail == FALSE){\n",
    "    noquote(sprintf(\"when Pr(X > c) = %f, c = %f\",probability,x_val))\n",
    "}else\n",
    "    noquote(sprintf(\"when Pr(X <= c) = %f, c = %f\",probability,x_val))\n"
   ]
  },
  {
   "cell_type": "markdown",
   "id": "macro-confusion",
   "metadata": {},
   "source": [
    "# Exponential distribution"
   ]
  },
  {
   "cell_type": "code",
   "execution_count": null,
   "id": "egyptian-signature",
   "metadata": {
    "scrolled": false
   },
   "outputs": [],
   "source": [
    "#individual outcome probability\n",
    "dexp(x, rate = alpha, log = FALSE)\n",
    "\n",
    "#cumulative pexp (pvalue), greater than > (x) or less than and equal to <=\n",
    "pexp(x, rate = alpha, lower.tail = lowertail, log.p = FALSE)\n",
    "\n",
    "#cumulative range, p of lower <= x <= upper\n",
    "pexp(upper, rate = alpha, lower.tail = TRUE, log.p = FALSE) - pexp(lower, rate = alpha, lower.tail = TRUE, log.p = FALSE)\n",
    "\n",
    "#x value given cumulative probability, less than or equal to <= / greater than >\n",
    "qexp(0.2, rate = alpha, lower.tail = lowertail, log.p = FALSE)\n"
   ]
  },
  {
   "cell_type": "code",
   "execution_count": 110,
   "id": "functioning-albuquerque",
   "metadata": {},
   "outputs": [
    {
     "data": {
      "text/plain": [
       "[1] The Expectation is 5.000000"
      ]
     },
     "metadata": {},
     "output_type": "display_data"
    },
    {
     "data": {
      "text/plain": [
       "[1] The Variance is 25.000000"
      ]
     },
     "metadata": {},
     "output_type": "display_data"
    },
    {
     "data": {
      "text/plain": [
       "[1] Pr (X = 10.000000) = 0.027067"
      ]
     },
     "metadata": {},
     "output_type": "display_data"
    },
    {
     "data": {
      "text/plain": [
       "[1] Pr(X <= 10.000000) = 0.864665"
      ]
     },
     "metadata": {},
     "output_type": "display_data"
    },
    {
     "data": {
      "text/plain": [
       "[1] Pr( 5.000000 <= X <= 10.000000) = 0.232544"
      ]
     },
     "metadata": {},
     "output_type": "display_data"
    },
    {
     "data": {
      "text/plain": [
       "[1] when Pr(X <= c) = 0.200000, c = 1.115718"
      ]
     },
     "metadata": {},
     "output_type": "display_data"
    }
   ],
   "source": [
    "eX = 5 #1/alpha\n",
    "alpha = 1/eX\n",
    "varX = 1/(alpha^2)\n",
    "\n",
    "lowertail = TRUE\n",
    "x = 10\n",
    "\n",
    "probability = 0.2\n",
    "\n",
    "upper = 10\n",
    "lower = 5\n",
    "\n",
    "noquote(sprintf(\"The Expectation is %f\",eX))\n",
    "noquote(sprintf(\"The Variance is %f\",varX))\n",
    "\n",
    "v = dexp(x, rate = alpha, log = FALSE)\n",
    "\n",
    "#cumulative pexp (pvalue), greater than > (x) or less than and equal to <=\n",
    "ld = pexp(x, rate = alpha, lower.tail = lowertail, log.p = FALSE)\n",
    "\n",
    "#cumulative range, p of lower <= x <= upper\n",
    "bw = pexp(upper, rate = alpha, lower.tail = TRUE, log.p = FALSE) - pexp(lower, rate = alpha, lower.tail = TRUE, log.p = FALSE)\n",
    "\n",
    "#x value given cumulative probability, less than or equal to <= / greater than >\n",
    "x_val = qexp(probability, rate = alpha, lower.tail = lowertail, log.p = FALSE)\n",
    "\n",
    "noquote(sprintf(\"Pr (X = %f) = %f\",x,v))\n",
    "\n",
    "if (lowertail == FALSE){\n",
    "    noquote(sprintf(\"Pr (X > %f) = %f\",x,ld))\n",
    "}else\n",
    "    noquote(sprintf(\"Pr(X <= %f) = %f\",x,ld))\n",
    "\n",
    "noquote(sprintf(\"Pr( %f <= X <= %f) = %f\",lower,upper,bw))\n",
    "\n",
    "if (lowertail == FALSE){\n",
    "    noquote(sprintf(\"when Pr(X > c) = %f, c = %f\",probability,x_val))\n",
    "}else\n",
    "    noquote(sprintf(\"when Pr(X <= c) = %f, c = %f\",probability,x_val))\n",
    "\n",
    "\n"
   ]
  },
  {
   "cell_type": "markdown",
   "id": "cutting-blake",
   "metadata": {},
   "source": [
    "# Normal distribution"
   ]
  },
  {
   "cell_type": "markdown",
   "id": "bound-strength",
   "metadata": {},
   "source": [
    "## Single varaible"
   ]
  },
  {
   "cell_type": "code",
   "execution_count": null,
   "id": "infectious-montreal",
   "metadata": {},
   "outputs": [],
   "source": [
    "#p lower <= X <= upper - if single value, put same\n",
    "pnorm(upper, mu, stdev, lower.tail = TRUE) - pnorm(lower, mu, stdev, lower.tail = TRUE)\n",
    "\n",
    "#cumulative , less than or equal to <= / greater than >\n",
    "pnorm(value, mu, stdev, lower.tail = lowertail)\n",
    "\n",
    "#z* value given p\n",
    "qnorm(probability, mu, stdev, lower.tail = lowertail)"
   ]
  },
  {
   "cell_type": "code",
   "execution_count": 9,
   "id": "united-dubai",
   "metadata": {},
   "outputs": [
    {
     "data": {
      "text/plain": [
       "[1] The Expectation is 0.000000"
      ]
     },
     "metadata": {},
     "output_type": "display_data"
    },
    {
     "data": {
      "text/plain": [
       "[1] The Variance is 1.000000"
      ]
     },
     "metadata": {},
     "output_type": "display_data"
    },
    {
     "data": {
      "text/plain": [
       "[1] The Standard Deviation is 1.000000"
      ]
     },
     "metadata": {},
     "output_type": "display_data"
    },
    {
     "data": {
      "text/plain": [
       "[1] Pr (Z > 0.850000) = 0.197663"
      ]
     },
     "metadata": {},
     "output_type": "display_data"
    },
    {
     "data": {
      "text/plain": [
       "[1] Pr( 2.000000 <= Z <= 6.000000) = 0.022750"
      ]
     },
     "metadata": {},
     "output_type": "display_data"
    },
    {
     "data": {
      "text/plain": [
       "[1] when Pr(Z > c) = 0.025000, c = 1.959964"
      ]
     },
     "metadata": {},
     "output_type": "display_data"
    }
   ],
   "source": [
    "mu = 0\n",
    "var = 1\n",
    "stdev = sqrt(var)\n",
    "\n",
    "value = 0.85\n",
    "\n",
    "lowertail = FALSE\n",
    "upper = 6\n",
    "lower = 2\n",
    "\n",
    "probability = (1-0.95)/2\n",
    "\n",
    "noquote(sprintf(\"The Expectation is %f\",mu))\n",
    "noquote(sprintf(\"The Variance is %f\",var))\n",
    "noquote(sprintf(\"The Standard Deviation is %f\",stdev))\n",
    "\n",
    "\n",
    "ld = pnorm(value, mu, stdev, lower.tail = lowertail)\n",
    "\n",
    "bw = pnorm(upper, mu, stdev, lower.tail = TRUE) - pnorm(lower, mu, stdev, lower.tail = TRUE)\n",
    "\n",
    "z_val = qnorm(probability, mu, stdev, lower.tail = lowertail)\n",
    "\n",
    "if (lowertail == FALSE){\n",
    "    noquote(sprintf(\"Pr (Z > %f) = %f\",value,ld))\n",
    "}else\n",
    "    noquote(sprintf(\"Pr(Z <= %f) = %f\",value,ld))\n",
    "\n",
    "noquote(sprintf(\"Pr( %f <= Z <= %f) = %f\",lower,upper,bw))\n",
    "\n",
    "if (lowertail == FALSE){\n",
    "    noquote(sprintf(\"when Pr(Z > c) = %f, c = %f\",probability,z_val))\n",
    "}else\n",
    "    noquote(sprintf(\"when Pr(Z <= c) = %f, c = %f\",probability,z_val))"
   ]
  },
  {
   "cell_type": "markdown",
   "id": "e636a38b",
   "metadata": {},
   "source": [
    "## Confidence interval - One-Tailed"
   ]
  },
  {
   "cell_type": "code",
   "execution_count": 59,
   "id": "b6af245f",
   "metadata": {},
   "outputs": [
    {
     "data": {
      "text/plain": [
       "[1] The 99.00 confidence interval is 8.017861 < mu < 8.382139"
      ]
     },
     "metadata": {},
     "output_type": "display_data"
    },
    {
     "data": {
      "text/plain": [
       "[1] The 99.00 rejection zone is mu < 8.017861 and mu > 8.382139"
      ]
     },
     "metadata": {},
     "output_type": "display_data"
    },
    {
     "data": {
      "text/plain": [
       "[1] For 8.200000 > 8.000000 The P-value is: 0.002339"
      ]
     },
     "metadata": {},
     "output_type": "display_data"
    },
    {
     "data": {
      "text/plain": [
       "[1] The Power of test is: 0.990000"
      ]
     },
     "metadata": {},
     "output_type": "display_data"
    }
   ],
   "source": [
    "stdev = 0.5#sd(data) \n",
    "xbar = 8.2 #mean(data) \n",
    "n = 50 #length(data) NROW(data)\n",
    "mu =  8\n",
    "true_mu = 8\n",
    "\n",
    "#CI\n",
    "alpha = 0.01\n",
    "m = qnorm(1-alpha/2) * stdev / sqrt(n)\n",
    "left = xbar - m\n",
    "right = xbar + m\n",
    "\n",
    "noquote(sprintf(\"The %.2f confidence interval is %f < mu < %f\",(1-alpha)*100,left,right))\n",
    "\n",
    "#rejection zone\n",
    "left_crit = mu - m\n",
    "right_crit = mu + m\n",
    "\n",
    "noquote(sprintf(\"The %.2f rejection zone is mu < %f and mu > %f\",(1-alpha)*100,left,right))\n",
    "\n",
    "#tests\n",
    "z_stat = (xbar-mu)/(stdev/sqrt(n))\n",
    "crit_val = right\n",
    "\n",
    "eq = FALSE\n",
    "pvalue =pnorm(z_stat,mean = 0, sd = 1, lower.tail = eq)\n",
    "\n",
    "power = pnorm(mu+m, true_mu, stdev/sqrt(n), lower.tail = FALSE) + pnorm(mu-m, true_mu, stdev/sqrt(n), lower.tail = TRUE)\n",
    "beta = 1 - power\n",
    "\n",
    "if (eq==TRUE){\n",
    "    noquote(sprintf(\"For %f < %f The P-value is: %f\",xbar,mu,pvalue))\n",
    "} else{\n",
    "    noquote(sprintf(\"For %f > %f The P-value is: %f\",xbar,mu,pvalue))\n",
    "}\n",
    "noquote(sprintf(\"The Power of test is: %f\",beta))"
   ]
  },
  {
   "cell_type": "markdown",
   "id": "damaged-brief",
   "metadata": {},
   "source": [
    "## Confidence interval - Two-Tailed"
   ]
  },
  {
   "cell_type": "code",
   "execution_count": 48,
   "id": "satellite-stomach",
   "metadata": {},
   "outputs": [
    {
     "data": {
      "text/plain": [
       "[1] The 99.00 confidence interval is 9.859739 < mu < 10.260261"
      ]
     },
     "metadata": {},
     "output_type": "display_data"
    },
    {
     "data": {
      "text/plain": [
       "[1] The 99.00 rejection zone is mu < 9.859739 and mu > 10.260261"
      ]
     },
     "metadata": {},
     "output_type": "display_data"
    },
    {
     "data": {
      "text/plain": [
       "[1] The P-value is: 0.440267"
      ]
     },
     "metadata": {},
     "output_type": "display_data"
    },
    {
     "data": {
      "text/plain": [
       "[1] The power of test is: 1.000000"
      ]
     },
     "metadata": {},
     "output_type": "display_data"
    },
    {
     "data": {
      "text/plain": [
       "[1] The beta-value of test is: 0.000000"
      ]
     },
     "metadata": {},
     "output_type": "display_data"
    }
   ],
   "source": [
    "stdev = 0.245855#sd(data) \n",
    "xbar = 10.060000 #mean(data) \n",
    "n = 10 #length(data) NROW(data)\n",
    "mu =  10\n",
    "true_mu = 790\n",
    "\n",
    "#CI\n",
    "alpha = 0.01\n",
    "m = qnorm(1-alpha/2) * stdev / sqrt(n)\n",
    "left = xbar - m\n",
    "right = xbar + m\n",
    "\n",
    "noquote(sprintf(\"The %.2f confidence interval is %f < mu < %f\",(1-alpha)*100,left,right))\n",
    "\n",
    "#rejection zone\n",
    "left_crit = mu - m\n",
    "right_crit = mu + m\n",
    "\n",
    "noquote(sprintf(\"The %.2f rejection zone is mu < %f and mu > %f\",(1-alpha)*100,left,right))\n",
    "\n",
    "#tests\n",
    "z_stat = (xbar-mu)/(stdev/sqrt(n))\n",
    "crit_val = right\n",
    "pvalue =2*min(pnorm(z_stat,mean = 0, sd = 1, lower.tail = FALSE),pnorm(z_stat,mean = 0, sd = 1, lower.tail = TRUE)) \n",
    "\n",
    "power = pnorm(mu+m, true_mu, stdev/sqrt(n), lower.tail = FALSE) + pnorm(mu-m, true_mu, stdev/sqrt(n), lower.tail = TRUE)\n",
    "beta = 1 - power\n",
    "\n",
    "noquote(sprintf(\"The P-value is: %f\",pvalue))\n",
    "noquote(sprintf(\"The power of test is: %f\",power))\n",
    "noquote(sprintf(\"The beta-value of test is: %f\",beta))"
   ]
  },
  {
   "cell_type": "markdown",
   "id": "58230814",
   "metadata": {},
   "source": [
    "## Samples needed to achieve a certain error"
   ]
  },
  {
   "cell_type": "code",
   "execution_count": 39,
   "id": "56fb49fe",
   "metadata": {},
   "outputs": [
    {
     "data": {
      "text/plain": [
       "[1] The number of samples needed for e = 0.000500 is 34.573129"
      ]
     },
     "metadata": {},
     "output_type": "display_data"
    }
   ],
   "source": [
    "stdev = 0.0015\n",
    "#size needed\n",
    "alpha = 0.05\n",
    "error = 0.0005\n",
    "n = (qnorm(1-alpha/2) * stdev / error) ^ 2\n",
    "\n",
    "noquote(sprintf(\"The number of samples needed for e = %f is %f\",error,n))"
   ]
  },
  {
   "cell_type": "markdown",
   "id": "reserved-demographic",
   "metadata": {},
   "source": [
    "## Two variables"
   ]
  },
  {
   "cell_type": "code",
   "execution_count": 43,
   "id": "linear-intersection",
   "metadata": {},
   "outputs": [
    {
     "data": {
      "text/plain": [
       "[1] The 98.00 confidence interval is 2.804362 < mu1 - mu2 < 3.395638"
      ]
     },
     "metadata": {},
     "output_type": "display_data"
    },
    {
     "data": {
      "text/plain": [
       "[1] For 3.100000 > 0.000000 The P-value is: 0.000000"
      ]
     },
     "metadata": {},
     "output_type": "display_data"
    }
   ],
   "source": [
    "xbar1 = 12.2\n",
    "sd1 = 1.1\n",
    "n1 = 100\n",
    "mu1 = 6.5\n",
    "\n",
    "xbar2 = 9.1\n",
    "sd2 = 0.9\n",
    "n2 = 200\n",
    "mu2 = 6\n",
    "\n",
    "alpha = 0.02\n",
    "\n",
    "diff = 0\n",
    "diffbar = xbar1 - xbar2\n",
    "\n",
    "#CI\n",
    "var = (sd1^2)/n1 + (sd2^2)/n2\n",
    "m = qnorm(1-alpha/2) * sqrt(var) \n",
    "left = diffbar - m\n",
    "right = diffbar + m\n",
    "\n",
    "noquote(sprintf(\"The %.2f confidence interval is %f < mu1 - mu2 < %f\",(1-alpha)*100,left,right))\n",
    "\n",
    "\n",
    "#test\n",
    "lowertail = FALSE\n",
    "pvalue = pnorm(diffbar, diff, sqrt(var), lower.tail = lowertail)\n",
    "\n",
    "twotail = FALSE\n",
    "\n",
    "\n",
    "if (twotail==TRUE){\n",
    "    pvalue = 2*min(pnorm(diffbar, diff, sqrt(var), lower.tail = TRUE),pnorm(diffbar, diff, sqrt(var), lower.tail = FALSE))\n",
    "    noquote(sprintf(\"The P-value is: %f\",pvalue))\n",
    "}else{\n",
    "    if (lowertail==TRUE){\n",
    "    noquote(sprintf(\"For %f < %f The P-value is: %f\",diffbar,diff,pvalue))\n",
    "} else{\n",
    "    noquote(sprintf(\"For %f > %f The P-value is: %f\",diffbar,diff,pvalue))\n",
    "}\n",
    "}\n",
    "\n",
    "\n"
   ]
  },
  {
   "cell_type": "markdown",
   "id": "6a53ac4a",
   "metadata": {},
   "source": [
    "### Same Variance"
   ]
  },
  {
   "cell_type": "code",
   "execution_count": 6,
   "id": "8513a5ed",
   "metadata": {},
   "outputs": [
    {
     "data": {
      "text/plain": [
       "[1] The Sp^2 is 1.000000"
      ]
     },
     "metadata": {},
     "output_type": "display_data"
    },
    {
     "data": {
      "text/plain": [
       "[1] The 95.00 confidence interval is -0.661968 < mu1 - mu2 < 0.261968"
      ]
     },
     "metadata": {},
     "output_type": "display_data"
    }
   ],
   "source": [
    "xbar1 = 4.5\n",
    "sd1 = 1\n",
    "n1 = 36\n",
    "mu1 = 6.5\n",
    "\n",
    "xbar2 = 4.7\n",
    "sd2 = 1\n",
    "n2 = 36\n",
    "mu2 = 6\n",
    "\n",
    "alpha = 0.05\n",
    "diff = -0.2\n",
    "\n",
    "sp =  (((n1-1)*(sd1^2)) + ((n2-1)*(sd2^2)))/(n1+n2-2)\n",
    "m_2 = qnorm(1-alpha/2)*sp*sqrt((1/n1)+(1/n2))\n",
    "right_2 = diff + m_2\n",
    "left_2 = diff - m_2\n",
    "\n",
    "noquote(sprintf(\"The Sp^2 is %f\",sp))\n",
    "noquote(sprintf(\"The %.2f confidence interval is %f < mu1 - mu2 < %f\",(1-alpha)*100,left_2,right_2))\n"
   ]
  },
  {
   "cell_type": "code",
   "execution_count": 31,
   "id": "emotional-alexandria",
   "metadata": {},
   "outputs": [
    {
     "ename": "ERROR",
     "evalue": "Error in z.test(x = c(5), y = NULL, alternative = \"two.sided\", mu = 4, : could not find function \"z.test\"\n",
     "output_type": "error",
     "traceback": [
      "Error in z.test(x = c(5), y = NULL, alternative = \"two.sided\", mu = 4, : could not find function \"z.test\"\nTraceback:\n"
     ]
    }
   ],
   "source": [
    "z.test(x = c(5), y = NULL, alternative = 'two.sided', mu = 4, sigma.x = 3.0, sigma.y = NULL, conf.level = 0.95)"
   ]
  },
  {
   "cell_type": "markdown",
   "id": "developmental-speed",
   "metadata": {},
   "source": [
    "# T distribution"
   ]
  },
  {
   "cell_type": "markdown",
   "id": "phantom-composite",
   "metadata": {},
   "source": [
    "## Single variable"
   ]
  },
  {
   "cell_type": "code",
   "execution_count": null,
   "id": "severe-valley",
   "metadata": {},
   "outputs": [],
   "source": [
    "#p lower <= X <= upper - if single value, put same\n",
    "pt(upper, dof, lower.tail = TRUE) - pt(lower, dof, lower.tail = TRUE)\n",
    "\n",
    "#cumulative , less than or equal to <= / greater than >\n",
    "pt(t, dof, lower.tail = lowertail)\n",
    "\n",
    "#t* value given p\n",
    "qt(probability, dof, lower.tail = lowertail)"
   ]
  },
  {
   "cell_type": "code",
   "execution_count": 4,
   "id": "choice-words",
   "metadata": {},
   "outputs": [
    {
     "data": {
      "text/plain": [
       "[1] P (T > 2.926829) = 0.009545"
      ]
     },
     "metadata": {},
     "output_type": "display_data"
    },
    {
     "data": {
      "text/plain": [
       "[1] P (0.000000 <= T <= 3.000000) = 0.000001"
      ]
     },
     "metadata": {},
     "output_type": "display_data"
    },
    {
     "data": {
      "text/plain": [
       "[1] when Pr(T > c) = 0.050000, c = 1.859548"
      ]
     },
     "metadata": {},
     "output_type": "display_data"
    }
   ],
   "source": [
    "n = 9\n",
    "p_sd = 4.1\n",
    "s = 4.1 #sqrt(n/(n-1))*sd\n",
    "xbar = 24\n",
    "mu = 20\n",
    "lowertail = FALSE\n",
    "\n",
    "t = (xbar - mu)/(s/sqrt(n))\n",
    "dof = n-1\n",
    "\n",
    "upper = 3\n",
    "lower = 0\n",
    "\n",
    "upper_t = (upper - mu)/(s/sqrt(n))\n",
    "lower_t = (lower - mu)/(s/sqrt(n))\n",
    "\n",
    "probability = 0.05\n",
    "\n",
    "ld = pt(t, dof, lower.tail = lowertail)\n",
    "\n",
    "bw =pt(upper_t, dof, lower.tail = TRUE) - pt(lower_t, dof, lower.tail = TRUE)\n",
    "\n",
    "x_val = qt(probability, dof, lower.tail = lowertail)\n",
    "\n",
    "if (lowertail == FALSE){\n",
    "    noquote(sprintf(\"P (T > %f) = %f\",t,ld))\n",
    "}else\n",
    "    noquote(sprintf(\"P (T <= %f) = %f\",t,ld))\n",
    "\n",
    "noquote(sprintf(\"P (%f <= T <= %f) = %f\",lower,upper,bw))\n",
    "\n",
    "if (lowertail == FALSE){\n",
    "    noquote(sprintf(\"when Pr(T > c) = %f, c = %f\",probability,x_val))\n",
    "}else\n",
    "    noquote(sprintf(\"when Pr(T <= c) = %f, c = %f\",probability,x_val))\n"
   ]
  },
  {
   "cell_type": "markdown",
   "id": "brutal-confidentiality",
   "metadata": {},
   "source": [
    "## Single variable CI and One-tailed test"
   ]
  },
  {
   "cell_type": "code",
   "execution_count": 60,
   "id": "forced-memory",
   "metadata": {},
   "outputs": [
    {
     "data": {
      "text/plain": [
       "[1] The 90.00 confidence interval is 9.917482 < mu < 10.202518"
      ]
     },
     "metadata": {},
     "output_type": "display_data"
    },
    {
     "data": {
      "text/plain": [
       "[1] For 10.060000 > 10.000000 The P-value is: 0.230025"
      ]
     },
     "metadata": {},
     "output_type": "display_data"
    }
   ],
   "source": [
    "xbar = 10.060000\n",
    "s = 0.245855\n",
    "n = 10\n",
    "mu = 10\n",
    "\n",
    "#test\n",
    "alpha = 0.10\n",
    "eq = FALSE\n",
    "t = qt(alpha/2, n-1, lower.tail = FALSE)\n",
    "t_stat = (xbar-mu)/(s/sqrt(n))\n",
    "pvalue = pt(t_stat, n-1, lower.tail = eq)\n",
    "\n",
    "#CI\n",
    "m = t*s/sqrt(n)\n",
    "right = xbar + m\n",
    "left = xbar - m\n",
    "\n",
    "noquote(sprintf(\"The %.2f confidence interval is %f < mu < %f\",(1-alpha)*100,left,right))\n",
    "\n",
    "if (eq==TRUE){\n",
    "    noquote(sprintf(\"For %f < %f The P-value is: %f\",xbar,mu,pvalue))\n",
    "} else{\n",
    "    noquote(sprintf(\"For %f > %f The P-value is: %f\",xbar,mu,pvalue))\n",
    "    }"
   ]
  },
  {
   "cell_type": "markdown",
   "id": "4763e383",
   "metadata": {},
   "source": [
    "## Single variable CI and Two-tailed test"
   ]
  },
  {
   "cell_type": "code",
   "execution_count": 61,
   "id": "7edc5de5",
   "metadata": {},
   "outputs": [
    {
     "data": {
      "text/plain": [
       "[1] The 90.00 confidence interval is 9.917482 < mu < 10.202518"
      ]
     },
     "metadata": {},
     "output_type": "display_data"
    },
    {
     "data": {
      "text/plain": [
       "[1] The P-value is: 0.460050"
      ]
     },
     "metadata": {},
     "output_type": "display_data"
    }
   ],
   "source": [
    "xbar = 10.060000\n",
    "s = 0.245855\n",
    "n = 10\n",
    "mu = 10\n",
    "\n",
    "#test\n",
    "alpha = 0.10\n",
    "t = qt(alpha/2, n-1, lower.tail = FALSE)\n",
    "t_stat = (xbar-mu)/(s/sqrt(n))\n",
    "pvalue =2*min(pt(t_stat, n-1, lower.tail = FALSE),pt(t_stat, n-1, lower.tail = TRUE)) \n",
    "\n",
    "#CI\n",
    "m = t*s/sqrt(n)\n",
    "right = xbar + m\n",
    "left = xbar - m\n",
    "\n",
    "noquote(sprintf(\"The %.2f confidence interval is %f < mu < %f\",(1-alpha)*100,left,right))\n",
    "\n",
    "noquote(sprintf(\"The P-value is: %f\",pvalue))"
   ]
  },
  {
   "cell_type": "markdown",
   "id": "marine-action",
   "metadata": {},
   "source": [
    "## Two variables"
   ]
  },
  {
   "cell_type": "code",
   "execution_count": 41,
   "id": "known-consideration",
   "metadata": {},
   "outputs": [
    {
     "data": {
      "text/plain": [
       "[1] The 94.00 confidence interval is 2.793007 < mu1-mu2 < 7.206993"
      ]
     },
     "metadata": {},
     "output_type": "display_data"
    }
   ],
   "source": [
    "xbar1 = 80\n",
    "s1 = 5\n",
    "n1 = 25\n",
    "\n",
    "xbar2 = 75\n",
    "s2 = 3\n",
    "n2 = 36\n",
    "\n",
    "alpha = 0.06\n",
    "\n",
    "#test\n",
    "t_stat = (xbar1-xbar2)/sqrt((s1**2/n1)+(s2**2/n2))\n",
    "df = min((n1-1), (n2-1))\n",
    "t = qt(alpha/2, df, lower.tail = FALSE)\n",
    "\n",
    "#CI\n",
    "m = t*sqrt((s1**2/n1)+(s2**2/n2))\n",
    "diff = xbar1 - xbar2\n",
    "right = diff + m\n",
    "left = diff - m\n",
    "\n",
    "noquote(sprintf(\"The %.2f confidence interval is %f < mu1-mu2 < %f\",(1-alpha)*100,left,right))\n",
    "\n",
    "p = pt(t_stat,df, lower.tail = FALSE) #*2"
   ]
  },
  {
   "cell_type": "markdown",
   "id": "ab753bfc",
   "metadata": {},
   "source": [
    "### Same Variance"
   ]
  },
  {
   "cell_type": "code",
   "execution_count": 178,
   "id": "e6c040c6",
   "metadata": {},
   "outputs": [
    {
     "data": {
      "text/plain": [
       "[1] The Sp^2 is 20.050000"
      ]
     },
     "metadata": {},
     "output_type": "display_data"
    },
    {
     "data": {
      "text/plain": [
       "[1] The 90.00 confidence interval is -3.306710 < mu1 - mu2 < 3.306710"
      ]
     },
     "metadata": {},
     "output_type": "display_data"
    },
    {
     "data": {
      "text/plain": [
       "[1] The P-value is: 0.049964"
      ]
     },
     "metadata": {},
     "output_type": "display_data"
    }
   ],
   "source": [
    "xbar1 = 85\n",
    "s1 = 4\n",
    "n1 = 8\n",
    "\n",
    "xbar2 = 81\n",
    "s2 = 5\n",
    "n2 = 12\n",
    "\n",
    "alpha = 0.1\n",
    "\n",
    "diffbar = xbar1 - xbar2\n",
    "sp = (((n1-1)*(s1^2)) + ((n2-1)*(s2^2)))/(n1+n2-2)\n",
    "df_2 = n1+n2-2\n",
    "t_2 = qt(alpha/2, df_2, lower.tail = FALSE)\n",
    "m_2 = t_2*sqrt(sp*((1/n1)+(1/n2)))\n",
    "right_2 = diff + m_2\n",
    "left_2 = diff - m_2\n",
    "\n",
    "\n",
    "noquote(sprintf(\"The Sp^2 is %f\",sp))\n",
    "noquote(sprintf(\"The %.2f confidence interval is %f < mu1 - mu2 < %f\",(1-alpha)*100,left_2,right_2))\n",
    "\n",
    "lowertail = FALSE\n",
    "diff = 0\n",
    "df = n1 + n2 - 2\n",
    "t_stat = (diffbar-diff)/sqrt(sp*((1/n1)+(1/n2)))\n",
    "pvalue = pt(t_stat, df, lower.tail = lowertail)\n",
    "\n",
    "twotail = TRUE\n",
    "\n",
    "\n",
    "if (twotail==TRUE){\n",
    "    pvalue = 2*min(pt(t_stat, df,lower.tail = TRUE),pt(t_stat, df,lower.tail = FALSE))\n",
    "    noquote(sprintf(\"The P-value is: %f\",pvalue))\n",
    "}else{\n",
    "    if (lowertail==TRUE){\n",
    "    noquote(sprintf(\"For %f < %f The P-value is: %f\",diffbar,diff,pvalue))\n",
    "} else{\n",
    "    noquote(sprintf(\"For %f > %f The P-value is: %f\",diffbar,diff,pvalue))\n",
    "}\n",
    "}"
   ]
  },
  {
   "cell_type": "markdown",
   "id": "prospective-berry",
   "metadata": {},
   "source": [
    "# Chi Square"
   ]
  },
  {
   "cell_type": "code",
   "execution_count": null,
   "id": "rapid-making",
   "metadata": {},
   "outputs": [],
   "source": [
    "#p lower <= X <= upper - if single value, put same\n",
    "pchisq(upperchisq, dof, lower.tail = TRUE) - pchisq(lowerchisq, dof, lower.tail = TRUE)\n",
    "\n",
    "#cumulative , less than or equal to <= / greater than >\n",
    "pchisq(chisq, dof, lower.tail = lowertail)\n",
    "\n",
    "#chisq* value given p\n",
    "qchisq(probability, dof)"
   ]
  },
  {
   "cell_type": "code",
   "execution_count": 20,
   "id": "continuing-learning",
   "metadata": {},
   "outputs": [
    {
     "data": {
      "text/plain": [
       "[1] P (Y > 9.100000) = 0.053419"
      ]
     },
     "metadata": {},
     "output_type": "display_data"
    },
    {
     "data": {
      "text/plain": [
       "[1] P ( 3.462000 <= Y <= 10.745000) = 0.934601"
      ]
     },
     "metadata": {},
     "output_type": "display_data"
    },
    {
     "data": {
      "text/plain": [
       "[1] when Pr(Y <= Chi_Dist) = 0.100000, Y <=  14.847956"
      ]
     },
     "metadata": {},
     "output_type": "display_data"
    }
   ],
   "source": [
    "n = 20\n",
    "var = 0.75\n",
    "value = 9.1\n",
    "lowertail = FALSE\n",
    "\n",
    "upper = 10.745\n",
    "lower = 3.462\n",
    "\n",
    "dof = n-1\n",
    "chisq = dof*value/var\n",
    "upperchisq = dof*upper/var\n",
    "lowerchisq = dof*lower/var\n",
    "probability = 0.1\n",
    "\n",
    "ld = pchisq(chisq, dof, lower.tail = lowertail)\n",
    "\n",
    "bw = pchisq(upperchisq, dof, lower.tail = TRUE) - pchisq(lowerchisq, dof, lower.tail = TRUE)\n",
    "\n",
    "y_val = qchisq(probability, dof)\n",
    "\n",
    "if (lowertail == FALSE){\n",
    "    noquote(sprintf(\"P (Y > %f) = %f\",value,ld))\n",
    "}else\n",
    "    noquote(sprintf(\"P (Y <= %f) = %f\",value,ld))\n",
    "\n",
    "noquote(sprintf(\"P ( %f <= Y <= %f) = %f\",lower,upper,bw))\n",
    "\n",
    "noquote(sprintf(\"when Pr(Y <= Chi_Dist) = %f, Y <=  %f\",probability,y_val))"
   ]
  },
  {
   "cell_type": "markdown",
   "id": "9c597c48",
   "metadata": {},
   "source": [
    "## CI for Variance"
   ]
  },
  {
   "cell_type": "code",
   "execution_count": 65,
   "id": "editorial-limitation",
   "metadata": {},
   "outputs": [
    {
     "data": {
      "text/plain": [
       "[1] The 95.00 confidence interval is 0.028597 < var < 0.201451"
      ]
     },
     "metadata": {},
     "output_type": "display_data"
    },
    {
     "data": {
      "text/plain": [
       "[1] The one tailed p-value is: 0.033659"
      ]
     },
     "metadata": {},
     "output_type": "display_data"
    },
    {
     "data": {
      "text/plain": [
       "[1] The two tailed p-value is: 0.067319"
      ]
     },
     "metadata": {},
     "output_type": "display_data"
    }
   ],
   "source": [
    "#testing var\n",
    "sample_var = 0.060444 #sd(data) ^ 2\n",
    "n = 10 #length(data)\n",
    "dof = n-1\n",
    "var = 0.03\n",
    "alpha = 0.05\n",
    "test_stat = (n-1)*sample_var/var\n",
    "\n",
    "lowertail = FALSE\n",
    "pvalue = pchisq(test_stat, dof, lower.tail = lowertail)\n",
    "two_tail = 2*min(pchisq(test_stat, dof, lower.tail = FALSE),pchisq(test_stat, dof, lower.tail = TRUE))\n",
    "\n",
    "#confidence interval\n",
    "m = (n-1) * sample_var\n",
    "left = m/qchisq(alpha/2, dof, lower.tail = FALSE)\n",
    "right = m/qchisq(1-alpha/2, dof, lower.tail = FALSE)\n",
    "\n",
    "noquote(sprintf(\"The %.2f confidence interval is %f < var < %f\",(1-alpha)*100,left,right))\n",
    "\n",
    "\n",
    "noquote(sprintf(\"The one tailed p-value is: %f\",pvalue))\n",
    "noquote(sprintf(\"The two tailed p-value is: %f\",two_tail))"
   ]
  },
  {
   "cell_type": "markdown",
   "id": "through-disabled",
   "metadata": {},
   "source": [
    "# F distribution"
   ]
  },
  {
   "cell_type": "code",
   "execution_count": null,
   "id": "ahead-driver",
   "metadata": {},
   "outputs": [],
   "source": [
    "#p lower <= X <= upper - if single value, put same\n",
    "pf(upper, dof1, dof2, lower.tail = TRUE) - pf(lower, dof1, dof2, lower.tail = TRUE)\n",
    "\n",
    "#cumulative , less than or equal to <= / greater than >\n",
    "pf(f, dof1, dof2, lower.tail = lowertail)\n",
    "\n",
    "#F* value given p\n",
    "qf(probability, dof1, dof2, lower.tail = lowertail)"
   ]
  },
  {
   "cell_type": "markdown",
   "id": "dc69b578",
   "metadata": {},
   "source": [
    "## F - Values"
   ]
  },
  {
   "cell_type": "code",
   "execution_count": 32,
   "id": "c35c323d",
   "metadata": {},
   "outputs": [
    {
     "data": {
      "text/plain": [
       "[1] P (F > 1.440000) = 0.366220"
      ]
     },
     "metadata": {},
     "output_type": "display_data"
    },
    {
     "data": {
      "text/plain": [
       "[1] P (2.000000 <= F <= 1.000000) = -0.240741"
      ]
     },
     "metadata": {},
     "output_type": "display_data"
    },
    {
     "data": {
      "text/plain": [
       "[1] when Pr(F > c) = 0.050000, c = 6.388233"
      ]
     },
     "metadata": {},
     "output_type": "display_data"
    }
   ],
   "source": [
    "upper  = 1\n",
    "lower = 2\n",
    "\n",
    "value = 1.44\n",
    "n1 = 5\n",
    "n2 = 6\n",
    "\n",
    "dof1 = n1-1\n",
    "dof2 = n2-2\n",
    "\n",
    "probability = 0.1/2\n",
    "lowertail = FALSE\n",
    "\n",
    "\n",
    "\n",
    "bw = pf(upper, dof1, dof2, lower.tail = TRUE) - pf(lower, dof1, dof2, lower.tail = TRUE)\n",
    "\n",
    "\n",
    "ld = pf(value, dof1, dof2, lower.tail = lowertail)\n",
    "\n",
    "\n",
    "f_val = qf(probability, dof1, dof2, lower.tail = lowertail)\n",
    "\n",
    "\n",
    "if (lowertail == FALSE){\n",
    "    noquote(sprintf(\"P (F > %f) = %f\",value,ld))\n",
    "}else\n",
    "    noquote(sprintf(\"P (F <= %f) = %f\",value,ld))\n",
    "\n",
    "noquote(sprintf(\"P (%f <= F <= %f) = %f\",lower,upper,bw))\n",
    "\n",
    "if (lowertail == FALSE){\n",
    "    noquote(sprintf(\"when Pr(F > c) = %f, c = %f\",probability,f_val))\n",
    "}else\n",
    "    noquote(sprintf(\"when Pr(F <= c) = %f, c = %f\",probability,f_val))"
   ]
  },
  {
   "cell_type": "markdown",
   "id": "ef30c58f",
   "metadata": {},
   "source": [
    "## Ratio of Variance"
   ]
  },
  {
   "cell_type": "code",
   "execution_count": 189,
   "id": "checked-feeding",
   "metadata": {},
   "outputs": [
    {
     "data": {
      "text/plain": [
       "[1] The 90.00 confidence interval is 0.437272 < std < 1.402092"
      ]
     },
     "metadata": {},
     "output_type": "display_data"
    },
    {
     "data": {
      "text/html": [
       "0.735294861532398"
      ],
      "text/latex": [
       "0.735294861532398"
      ],
      "text/markdown": [
       "0.735294861532398"
      ],
      "text/plain": [
       "[1] 0.7352949"
      ]
     },
     "metadata": {},
     "output_type": "display_data"
    },
    {
     "data": {
      "text/html": [
       "0.8064"
      ],
      "text/latex": [
       "0.8064"
      ],
      "text/markdown": [
       "0.8064"
      ],
      "text/plain": [
       "[1] 0.8064"
      ]
     },
     "metadata": {},
     "output_type": "display_data"
    },
    {
     "data": {
      "text/plain": [
       "[1] when Pr(F > c) = 0.950000, c = 0.325557"
      ]
     },
     "metadata": {},
     "output_type": "display_data"
    }
   ],
   "source": [
    "n1 = 11\n",
    "s1 = 4\n",
    "sd1 = 8\n",
    "\n",
    "n2 = 9\n",
    "s2 = 5\n",
    "sd2 = sqrt(15)\n",
    "\n",
    "ratioOfVarSq = 1\n",
    "alpha = 0.1\n",
    "probability = 0.95\n",
    "\n",
    "lowertail = FALSE\n",
    "value = 1.26\n",
    "Pop_var = FALSE\n",
    "\n",
    "\n",
    "var1 = s1^2\n",
    "var2 = s2^2\n",
    "dof1 = n1-1\n",
    "dof2 = n2-1\n",
    "\n",
    "ratio = (s1^2)/(s2^2)\n",
    "ratio_2 = (sd2^2)/(sd1^2)\n",
    "\n",
    "#CI\n",
    "left = sqrt(ratio/qf(alpha/2, dof1, dof2, lower.tail = FALSE))\n",
    "right = sqrt(ratio*qf(alpha/2, dof2, dof1, lower.tail = FALSE))\n",
    "\n",
    "noquote(sprintf(\"The %.2f confidence interval is %f < std < %f\",(1-alpha)*100,left,right))\n",
    "\n",
    "#testing var2/var1\n",
    "f = (var1/var2)*value\n",
    "f_2 = ratio_2*value\n",
    "\n",
    "prob_1 = pf(f_2, dof1, dof2, lower.tail = lowertail)\n",
    "pvalue = pf(f, dof1, dof2, lower.tail = lowertail)\n",
    "\n",
    "\n",
    "(1-pvalue) *2\n",
    "f\n",
    "\n",
    "f_val = qf(probability, dof1, dof2, lower.tail = lowertail)\n",
    "\n",
    "if (Pop_var == TRUE){\n",
    "    if (lowertail == FALSE){\n",
    "        noquote(sprintf(\"when Pr(F > %f) = %f\",f_2,prob_1))\n",
    "    }else\n",
    "        noquote(sprintf(\"when Pr(F <= %f) = %f\",f_2,prob_1))\n",
    "    }\n",
    "\n",
    "if (lowertail == FALSE){\n",
    "    noquote(sprintf(\"when Pr(F > c) = %f, c = %f\",probability,f_val))\n",
    "}else\n",
    "    noquote(sprintf(\"when Pr(F <= c) = %f, c = %f\",probability,f_val))\n",
    "    "
   ]
  },
  {
   "cell_type": "markdown",
   "id": "compressed-intent",
   "metadata": {},
   "source": [
    "# Data"
   ]
  },
  {
   "cell_type": "markdown",
   "id": "42d40648",
   "metadata": {},
   "source": [
    "## Bivariate data"
   ]
  },
  {
   "cell_type": "code",
   "execution_count": 49,
   "id": "productive-anger",
   "metadata": {
    "scrolled": true
   },
   "outputs": [
    {
     "data": {
      "text/html": [
       "<ol class=list-inline>\n",
       "\t<li>0.100000000000001</li>\n",
       "\t<li>-0.2</li>\n",
       "\t<li>0.399999999999999</li>\n",
       "\t<li>0.0999999999999996</li>\n",
       "\t<li>-0.0999999999999996</li>\n",
       "\t<li>0.0999999999999996</li>\n",
       "\t<li>0</li>\n",
       "\t<li>0.2</li>\n",
       "\t<li>0.5</li>\n",
       "\t<li>0.2</li>\n",
       "\t<li>0.0999999999999996</li>\n",
       "\t<li>0.3</li>\n",
       "</ol>\n"
      ],
      "text/latex": [
       "\\begin{enumerate*}\n",
       "\\item 0.100000000000001\n",
       "\\item -0.2\n",
       "\\item 0.399999999999999\n",
       "\\item 0.0999999999999996\n",
       "\\item -0.0999999999999996\n",
       "\\item 0.0999999999999996\n",
       "\\item 0\n",
       "\\item 0.2\n",
       "\\item 0.5\n",
       "\\item 0.2\n",
       "\\item 0.0999999999999996\n",
       "\\item 0.3\n",
       "\\end{enumerate*}\n"
      ],
      "text/markdown": [
       "1. 0.100000000000001\n",
       "2. -0.2\n",
       "3. 0.399999999999999\n",
       "4. 0.0999999999999996\n",
       "5. -0.0999999999999996\n",
       "6. 0.0999999999999996\n",
       "7. 0\n",
       "8. 0.2\n",
       "9. 0.5\n",
       "10. 0.2\n",
       "11. 0.0999999999999996\n",
       "12. 0.3\n",
       "\n",
       "\n"
      ],
      "text/plain": [
       " [1]  0.1 -0.2  0.4  0.1 -0.1  0.1  0.0  0.2  0.5  0.2  0.1  0.3"
      ]
     },
     "metadata": {},
     "output_type": "display_data"
    }
   ],
   "source": [
    "\n",
    "data1 <- c(4.2, 4.7, 6.6, 7, 6.7, 4.5, 5.7, 6, 7.4, 4.9, 6.1, 5.2) \n",
    "data2 <- c(4.1, 4.9, 6.2, 6.9, 6.8, 4.4, 5.7, 5.8, 6.9, 4.7, 6, 4.9)\n",
    "data = c()\n",
    "\n",
    "s1 = sd(data1)\n",
    "n1 = length(data1)\n",
    "dof1 = n1-1\n",
    "s2 = sd(data2)\n",
    "n2 = length(data2)\n",
    "dof2 = n2 - 1\n",
    "\n",
    "for (i in 1:n1) {\n",
    "    data <- c(data, data1[i]-data2[i])\n",
    "} \n",
    "\n",
    "data"
   ]
  },
  {
   "cell_type": "markdown",
   "id": "9b86d165",
   "metadata": {},
   "source": [
    "## Univariate data"
   ]
  },
  {
   "cell_type": "code",
   "execution_count": 47,
   "id": "israeli-christmas",
   "metadata": {},
   "outputs": [
    {
     "data": {
      "text/plain": [
       "[1] The Expectation is 10.060000"
      ]
     },
     "metadata": {},
     "output_type": "display_data"
    },
    {
     "data": {
      "text/plain": [
       "[1] The Variance is 0.060444"
      ]
     },
     "metadata": {},
     "output_type": "display_data"
    },
    {
     "data": {
      "text/plain": [
       "[1] The Standard Deviation is 0.245855"
      ]
     },
     "metadata": {},
     "output_type": "display_data"
    }
   ],
   "source": [
    "data <- c(10.2, 9.7, 10.1, 10.3, 10.1, 9.8, 9.9, 10.4, 10.3,9.8)\n",
    "sd = sd(data)\n",
    "eX = mean(data)\n",
    "n = length(data)\n",
    "dof = n-1\n",
    "\n",
    "noquote(sprintf(\"The Expectation is %f\",eX))\n",
    "noquote(sprintf(\"The Variance is %f\",sd^2))\n",
    "noquote(sprintf(\"The Standard Deviation is %f\",sd))"
   ]
  },
  {
   "cell_type": "markdown",
   "id": "6eefb3b6",
   "metadata": {},
   "source": [
    "## Prob Tables"
   ]
  },
  {
   "cell_type": "code",
   "execution_count": null,
   "id": "mechanical-compound",
   "metadata": {},
   "outputs": [],
   "source": [
    "x <- c(4,5,6,7)\n",
    "Pr <- c(0.2,0.4,0.3,0.1)\n",
    "eX = 0\n",
    "var = 0\n",
    "stdev = 0\n",
    "\n",
    "for (i in 1:length(x)){\n",
    "    eX = eX + x[i]*Pr[i]\n",
    "}\n",
    "\n",
    "for (i in 1:length(x)){\n",
    "    var = var + ((x[i]-eX)**2)*Pr[i]\n",
    "}\n",
    "\n",
    "stdev = sqrt(var)\n",
    "\n",
    "noquote(sprintf(\"The Expectation is %f\",eX[1]))\n",
    "noquote(sprintf(\"The Variance is %f\",var))\n",
    "noquote(sprintf(\"The Standard Deviation is %f\",stdev))\n"
   ]
  },
  {
   "cell_type": "code",
   "execution_count": null,
   "id": "359984d9",
   "metadata": {},
   "outputs": [],
   "source": []
  },
  {
   "cell_type": "code",
   "execution_count": null,
   "id": "81858cfb",
   "metadata": {},
   "outputs": [],
   "source": []
  }
 ],
 "metadata": {
  "kernelspec": {
   "display_name": "R",
   "language": "R",
   "name": "ir"
  },
  "language_info": {
   "codemirror_mode": "r",
   "file_extension": ".r",
   "mimetype": "text/x-r-source",
   "name": "R",
   "pygments_lexer": "r",
   "version": "3.6.1"
  },
  "toc": {
   "base_numbering": 1,
   "nav_menu": {},
   "number_sections": true,
   "sideBar": true,
   "skip_h1_title": false,
   "title_cell": "Table of Contents",
   "title_sidebar": "Contents",
   "toc_cell": false,
   "toc_position": {
    "height": "calc(100% - 180px)",
    "left": "10px",
    "top": "150px",
    "width": "426.632px"
   },
   "toc_section_display": true,
   "toc_window_display": true
  },
  "varInspector": {
   "cols": {
    "lenName": 16,
    "lenType": 16,
    "lenVar": 40
   },
   "kernels_config": {
    "python": {
     "delete_cmd_postfix": "",
     "delete_cmd_prefix": "del ",
     "library": "var_list.py",
     "varRefreshCmd": "print(var_dic_list())"
    },
    "r": {
     "delete_cmd_postfix": ") ",
     "delete_cmd_prefix": "rm(",
     "library": "var_list.r",
     "varRefreshCmd": "cat(var_dic_list()) "
    }
   },
   "types_to_exclude": [
    "module",
    "function",
    "builtin_function_or_method",
    "instance",
    "_Feature"
   ],
   "window_display": false
  }
 },
 "nbformat": 4,
 "nbformat_minor": 5
}
